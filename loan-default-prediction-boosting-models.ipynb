{
 "cells": [
  {
   "cell_type": "code",
   "execution_count": 1,
   "id": "22b569d1",
   "metadata": {
    "_cell_guid": "b1076dfc-b9ad-4769-8c92-a6c4dae69d19",
    "_uuid": "8f2839f25d086af736a60e9eeb907d3b93b6e0e5",
    "execution": {
     "iopub.execute_input": "2024-05-21T12:16:26.858774Z",
     "iopub.status.busy": "2024-05-21T12:16:26.858396Z",
     "iopub.status.idle": "2024-05-21T12:16:30.372577Z",
     "shell.execute_reply": "2024-05-21T12:16:30.371533Z"
    },
    "papermill": {
     "duration": 3.531559,
     "end_time": "2024-05-21T12:16:30.374916",
     "exception": false,
     "start_time": "2024-05-21T12:16:26.843357",
     "status": "completed"
    },
    "tags": []
   },
   "outputs": [
    {
     "name": "stdout",
     "output_type": "stream",
     "text": [
      "/kaggle/input/loan-default-dataset/Loan_Default.csv\n"
     ]
    }
   ],
   "source": [
    "import numpy as np \n",
    "import pandas as pd \n",
    "import matplotlib.pyplot as plt\n",
    "import seaborn as sns\n",
    "from sklearn.metrics import confusion_matrix, classification_report, accuracy_score\n",
    "from sklearn.preprocessing import StandardScaler, LabelEncoder, OneHotEncoder\n",
    "from sklearn.impute import KNNImputer\n",
    "from sklearn.model_selection import train_test_split, GridSearchCV, RandomizedSearchCV\n",
    "from sklearn.ensemble import GradientBoostingClassifier, AdaBoostClassifier\n",
    "from lightgbm import LGBMClassifier\n",
    "from catboost import CatBoostClassifier\n",
    "from xgboost import XGBClassifier\n",
    "import warnings\n",
    "warnings.filterwarnings('ignore')\n",
    "\n",
    "import os\n",
    "for dirname, _, filenames in os.walk('/kaggle/input'):\n",
    "    for filename in filenames:\n",
    "        print(os.path.join(dirname, filename))\n"
   ]
  },
  {
   "cell_type": "code",
   "execution_count": 2,
   "id": "eab83f31",
   "metadata": {
    "execution": {
     "iopub.execute_input": "2024-05-21T12:16:30.400751Z",
     "iopub.status.busy": "2024-05-21T12:16:30.399623Z",
     "iopub.status.idle": "2024-05-21T12:16:31.723298Z",
     "shell.execute_reply": "2024-05-21T12:16:31.722309Z"
    },
    "papermill": {
     "duration": 1.338726,
     "end_time": "2024-05-21T12:16:31.725622",
     "exception": false,
     "start_time": "2024-05-21T12:16:30.386896",
     "status": "completed"
    },
    "tags": []
   },
   "outputs": [
    {
     "data": {
      "text/html": [
       "<div>\n",
       "<style scoped>\n",
       "    .dataframe tbody tr th:only-of-type {\n",
       "        vertical-align: middle;\n",
       "    }\n",
       "\n",
       "    .dataframe tbody tr th {\n",
       "        vertical-align: top;\n",
       "    }\n",
       "\n",
       "    .dataframe thead th {\n",
       "        text-align: right;\n",
       "    }\n",
       "</style>\n",
       "<table border=\"1\" class=\"dataframe\">\n",
       "  <thead>\n",
       "    <tr style=\"text-align: right;\">\n",
       "      <th></th>\n",
       "      <th>ID</th>\n",
       "      <th>year</th>\n",
       "      <th>loan_limit</th>\n",
       "      <th>Gender</th>\n",
       "      <th>approv_in_adv</th>\n",
       "      <th>loan_type</th>\n",
       "      <th>loan_purpose</th>\n",
       "      <th>Credit_Worthiness</th>\n",
       "      <th>open_credit</th>\n",
       "      <th>business_or_commercial</th>\n",
       "      <th>...</th>\n",
       "      <th>credit_type</th>\n",
       "      <th>Credit_Score</th>\n",
       "      <th>co-applicant_credit_type</th>\n",
       "      <th>age</th>\n",
       "      <th>submission_of_application</th>\n",
       "      <th>LTV</th>\n",
       "      <th>Region</th>\n",
       "      <th>Security_Type</th>\n",
       "      <th>Status</th>\n",
       "      <th>dtir1</th>\n",
       "    </tr>\n",
       "  </thead>\n",
       "  <tbody>\n",
       "    <tr>\n",
       "      <th>0</th>\n",
       "      <td>24890</td>\n",
       "      <td>2019</td>\n",
       "      <td>cf</td>\n",
       "      <td>Sex Not Available</td>\n",
       "      <td>nopre</td>\n",
       "      <td>type1</td>\n",
       "      <td>p1</td>\n",
       "      <td>l1</td>\n",
       "      <td>nopc</td>\n",
       "      <td>nob/c</td>\n",
       "      <td>...</td>\n",
       "      <td>EXP</td>\n",
       "      <td>758</td>\n",
       "      <td>CIB</td>\n",
       "      <td>25-34</td>\n",
       "      <td>to_inst</td>\n",
       "      <td>98.728814</td>\n",
       "      <td>south</td>\n",
       "      <td>direct</td>\n",
       "      <td>1</td>\n",
       "      <td>45.0</td>\n",
       "    </tr>\n",
       "    <tr>\n",
       "      <th>1</th>\n",
       "      <td>24891</td>\n",
       "      <td>2019</td>\n",
       "      <td>cf</td>\n",
       "      <td>Male</td>\n",
       "      <td>nopre</td>\n",
       "      <td>type2</td>\n",
       "      <td>p1</td>\n",
       "      <td>l1</td>\n",
       "      <td>nopc</td>\n",
       "      <td>b/c</td>\n",
       "      <td>...</td>\n",
       "      <td>EQUI</td>\n",
       "      <td>552</td>\n",
       "      <td>EXP</td>\n",
       "      <td>55-64</td>\n",
       "      <td>to_inst</td>\n",
       "      <td>NaN</td>\n",
       "      <td>North</td>\n",
       "      <td>direct</td>\n",
       "      <td>1</td>\n",
       "      <td>NaN</td>\n",
       "    </tr>\n",
       "    <tr>\n",
       "      <th>2</th>\n",
       "      <td>24892</td>\n",
       "      <td>2019</td>\n",
       "      <td>cf</td>\n",
       "      <td>Male</td>\n",
       "      <td>pre</td>\n",
       "      <td>type1</td>\n",
       "      <td>p1</td>\n",
       "      <td>l1</td>\n",
       "      <td>nopc</td>\n",
       "      <td>nob/c</td>\n",
       "      <td>...</td>\n",
       "      <td>EXP</td>\n",
       "      <td>834</td>\n",
       "      <td>CIB</td>\n",
       "      <td>35-44</td>\n",
       "      <td>to_inst</td>\n",
       "      <td>80.019685</td>\n",
       "      <td>south</td>\n",
       "      <td>direct</td>\n",
       "      <td>0</td>\n",
       "      <td>46.0</td>\n",
       "    </tr>\n",
       "    <tr>\n",
       "      <th>3</th>\n",
       "      <td>24893</td>\n",
       "      <td>2019</td>\n",
       "      <td>cf</td>\n",
       "      <td>Male</td>\n",
       "      <td>nopre</td>\n",
       "      <td>type1</td>\n",
       "      <td>p4</td>\n",
       "      <td>l1</td>\n",
       "      <td>nopc</td>\n",
       "      <td>nob/c</td>\n",
       "      <td>...</td>\n",
       "      <td>EXP</td>\n",
       "      <td>587</td>\n",
       "      <td>CIB</td>\n",
       "      <td>45-54</td>\n",
       "      <td>not_inst</td>\n",
       "      <td>69.376900</td>\n",
       "      <td>North</td>\n",
       "      <td>direct</td>\n",
       "      <td>0</td>\n",
       "      <td>42.0</td>\n",
       "    </tr>\n",
       "    <tr>\n",
       "      <th>4</th>\n",
       "      <td>24894</td>\n",
       "      <td>2019</td>\n",
       "      <td>cf</td>\n",
       "      <td>Joint</td>\n",
       "      <td>pre</td>\n",
       "      <td>type1</td>\n",
       "      <td>p1</td>\n",
       "      <td>l1</td>\n",
       "      <td>nopc</td>\n",
       "      <td>nob/c</td>\n",
       "      <td>...</td>\n",
       "      <td>CRIF</td>\n",
       "      <td>602</td>\n",
       "      <td>EXP</td>\n",
       "      <td>25-34</td>\n",
       "      <td>not_inst</td>\n",
       "      <td>91.886544</td>\n",
       "      <td>North</td>\n",
       "      <td>direct</td>\n",
       "      <td>0</td>\n",
       "      <td>39.0</td>\n",
       "    </tr>\n",
       "  </tbody>\n",
       "</table>\n",
       "<p>5 rows × 34 columns</p>\n",
       "</div>"
      ],
      "text/plain": [
       "      ID  year loan_limit             Gender approv_in_adv loan_type  \\\n",
       "0  24890  2019         cf  Sex Not Available         nopre     type1   \n",
       "1  24891  2019         cf               Male         nopre     type2   \n",
       "2  24892  2019         cf               Male           pre     type1   \n",
       "3  24893  2019         cf               Male         nopre     type1   \n",
       "4  24894  2019         cf              Joint           pre     type1   \n",
       "\n",
       "  loan_purpose Credit_Worthiness open_credit business_or_commercial  ...  \\\n",
       "0           p1                l1        nopc                  nob/c  ...   \n",
       "1           p1                l1        nopc                    b/c  ...   \n",
       "2           p1                l1        nopc                  nob/c  ...   \n",
       "3           p4                l1        nopc                  nob/c  ...   \n",
       "4           p1                l1        nopc                  nob/c  ...   \n",
       "\n",
       "   credit_type  Credit_Score  co-applicant_credit_type    age  \\\n",
       "0          EXP           758                       CIB  25-34   \n",
       "1         EQUI           552                       EXP  55-64   \n",
       "2          EXP           834                       CIB  35-44   \n",
       "3          EXP           587                       CIB  45-54   \n",
       "4         CRIF           602                       EXP  25-34   \n",
       "\n",
       "   submission_of_application        LTV Region Security_Type  Status dtir1  \n",
       "0                    to_inst  98.728814  south        direct       1  45.0  \n",
       "1                    to_inst        NaN  North        direct       1   NaN  \n",
       "2                    to_inst  80.019685  south        direct       0  46.0  \n",
       "3                   not_inst  69.376900  North        direct       0  42.0  \n",
       "4                   not_inst  91.886544  North        direct       0  39.0  \n",
       "\n",
       "[5 rows x 34 columns]"
      ]
     },
     "execution_count": 2,
     "metadata": {},
     "output_type": "execute_result"
    }
   ],
   "source": [
    "df = pd.read_csv(\"/kaggle/input/loan-default-dataset/Loan_Default.csv\")\n",
    "df.head()"
   ]
  },
  {
   "cell_type": "code",
   "execution_count": 3,
   "id": "3f41702e",
   "metadata": {
    "execution": {
     "iopub.execute_input": "2024-05-21T12:16:31.751506Z",
     "iopub.status.busy": "2024-05-21T12:16:31.751193Z",
     "iopub.status.idle": "2024-05-21T12:16:32.096670Z",
     "shell.execute_reply": "2024-05-21T12:16:32.095517Z"
    },
    "papermill": {
     "duration": 0.361152,
     "end_time": "2024-05-21T12:16:32.099279",
     "exception": false,
     "start_time": "2024-05-21T12:16:31.738127",
     "status": "completed"
    },
    "tags": []
   },
   "outputs": [
    {
     "name": "stdout",
     "output_type": "stream",
     "text": [
      "<class 'pandas.core.frame.DataFrame'>\n",
      "RangeIndex: 148670 entries, 0 to 148669\n",
      "Data columns (total 34 columns):\n",
      " #   Column                     Non-Null Count   Dtype  \n",
      "---  ------                     --------------   -----  \n",
      " 0   ID                         148670 non-null  int64  \n",
      " 1   year                       148670 non-null  int64  \n",
      " 2   loan_limit                 145326 non-null  object \n",
      " 3   Gender                     148670 non-null  object \n",
      " 4   approv_in_adv              147762 non-null  object \n",
      " 5   loan_type                  148670 non-null  object \n",
      " 6   loan_purpose               148536 non-null  object \n",
      " 7   Credit_Worthiness          148670 non-null  object \n",
      " 8   open_credit                148670 non-null  object \n",
      " 9   business_or_commercial     148670 non-null  object \n",
      " 10  loan_amount                148670 non-null  int64  \n",
      " 11  rate_of_interest           112231 non-null  float64\n",
      " 12  Interest_rate_spread       112031 non-null  float64\n",
      " 13  Upfront_charges            109028 non-null  float64\n",
      " 14  term                       148629 non-null  float64\n",
      " 15  Neg_ammortization          148549 non-null  object \n",
      " 16  interest_only              148670 non-null  object \n",
      " 17  lump_sum_payment           148670 non-null  object \n",
      " 18  property_value             133572 non-null  float64\n",
      " 19  construction_type          148670 non-null  object \n",
      " 20  occupancy_type             148670 non-null  object \n",
      " 21  Secured_by                 148670 non-null  object \n",
      " 22  total_units                148670 non-null  object \n",
      " 23  income                     139520 non-null  float64\n",
      " 24  credit_type                148670 non-null  object \n",
      " 25  Credit_Score               148670 non-null  int64  \n",
      " 26  co-applicant_credit_type   148670 non-null  object \n",
      " 27  age                        148470 non-null  object \n",
      " 28  submission_of_application  148470 non-null  object \n",
      " 29  LTV                        133572 non-null  float64\n",
      " 30  Region                     148670 non-null  object \n",
      " 31  Security_Type              148670 non-null  object \n",
      " 32  Status                     148670 non-null  int64  \n",
      " 33  dtir1                      124549 non-null  float64\n",
      "dtypes: float64(8), int64(5), object(21)\n",
      "memory usage: 38.6+ MB\n"
     ]
    }
   ],
   "source": [
    "df.info()"
   ]
  },
  {
   "cell_type": "markdown",
   "id": "b41e5b40",
   "metadata": {
    "papermill": {
     "duration": 0.014964,
     "end_time": "2024-05-21T12:16:32.129285",
     "exception": false,
     "start_time": "2024-05-21T12:16:32.114321",
     "status": "completed"
    },
    "tags": []
   },
   "source": [
    "# Handling Null Values:"
   ]
  },
  {
   "cell_type": "code",
   "execution_count": 4,
   "id": "58030e35",
   "metadata": {
    "execution": {
     "iopub.execute_input": "2024-05-21T12:16:32.158885Z",
     "iopub.status.busy": "2024-05-21T12:16:32.158490Z",
     "iopub.status.idle": "2024-05-21T12:16:32.499959Z",
     "shell.execute_reply": "2024-05-21T12:16:32.498976Z"
    },
    "papermill": {
     "duration": 0.359002,
     "end_time": "2024-05-21T12:16:32.502248",
     "exception": false,
     "start_time": "2024-05-21T12:16:32.143246",
     "status": "completed"
    },
    "tags": []
   },
   "outputs": [
    {
     "data": {
      "text/plain": [
       "ID                               0\n",
       "year                             0\n",
       "loan_limit                    3344\n",
       "Gender                           0\n",
       "approv_in_adv                  908\n",
       "loan_type                        0\n",
       "loan_purpose                   134\n",
       "Credit_Worthiness                0\n",
       "open_credit                      0\n",
       "business_or_commercial           0\n",
       "loan_amount                      0\n",
       "rate_of_interest             36439\n",
       "Interest_rate_spread         36639\n",
       "Upfront_charges              39642\n",
       "term                            41\n",
       "Neg_ammortization              121\n",
       "interest_only                    0\n",
       "lump_sum_payment                 0\n",
       "property_value               15098\n",
       "construction_type                0\n",
       "occupancy_type                   0\n",
       "Secured_by                       0\n",
       "total_units                      0\n",
       "income                        9150\n",
       "credit_type                      0\n",
       "Credit_Score                     0\n",
       "co-applicant_credit_type         0\n",
       "age                            200\n",
       "submission_of_application      200\n",
       "LTV                          15098\n",
       "Region                           0\n",
       "Security_Type                    0\n",
       "Status                           0\n",
       "dtir1                        24121\n",
       "dtype: int64"
      ]
     },
     "execution_count": 4,
     "metadata": {},
     "output_type": "execute_result"
    }
   ],
   "source": [
    "df.isna().sum()"
   ]
  },
  {
   "cell_type": "code",
   "execution_count": 5,
   "id": "6e18098f",
   "metadata": {
    "execution": {
     "iopub.execute_input": "2024-05-21T12:16:32.530225Z",
     "iopub.status.busy": "2024-05-21T12:16:32.529792Z",
     "iopub.status.idle": "2024-05-21T12:16:33.378374Z",
     "shell.execute_reply": "2024-05-21T12:16:33.377462Z"
    },
    "papermill": {
     "duration": 0.864545,
     "end_time": "2024-05-21T12:16:33.381089",
     "exception": false,
     "start_time": "2024-05-21T12:16:32.516544",
     "status": "completed"
    },
    "tags": []
   },
   "outputs": [
    {
     "data": {
      "image/png": "[encoded data removed]",
      "text/plain": [
       "<Figure size 640x480 with 1 Axes>"
      ]
     },
     "metadata": {},
     "output_type": "display_data"
    }
   ],
   "source": [
    "df.isna().sum().plot.bar()\n",
    "plt.show()"
   ]
  },
  {
   "cell_type": "markdown",
   "id": "42ffcc31",
   "metadata": {
    "papermill": {
     "duration": 0.013419,
     "end_time": "2024-05-21T12:16:33.408222",
     "exception": false,
     "start_time": "2024-05-21T12:16:33.394803",
     "status": "completed"
    },
    "tags": []
   },
   "source": [
    "Removing columns ID and year."
   ]
  },
  {
   "cell_type": "code",
   "execution_count": 6,
   "id": "98672ded",
   "metadata": {
    "execution": {
     "iopub.execute_input": "2024-05-21T12:16:33.437310Z",
     "iopub.status.busy": "2024-05-21T12:16:33.436991Z",
     "iopub.status.idle": "2024-05-21T12:16:33.483828Z",
     "shell.execute_reply": "2024-05-21T12:16:33.483114Z"
    },
    "papermill": {
     "duration": 0.063962,
     "end_time": "2024-05-21T12:16:33.485962",
     "exception": false,
     "start_time": "2024-05-21T12:16:33.422000",
     "status": "completed"
    },
    "tags": []
   },
   "outputs": [
    {
     "data": {
      "text/html": [
       "<div>\n",
       "<style scoped>\n",
       "    .dataframe tbody tr th:only-of-type {\n",
       "        vertical-align: middle;\n",
       "    }\n",
       "\n",
       "    .dataframe tbody tr th {\n",
       "        vertical-align: top;\n",
       "    }\n",
       "\n",
       "    .dataframe thead th {\n",
       "        text-align: right;\n",
       "    }\n",
       "</style>\n",
       "<table border=\"1\" class=\"dataframe\">\n",
       "  <thead>\n",
       "    <tr style=\"text-align: right;\">\n",
       "      <th></th>\n",
       "      <th>loan_limit</th>\n",
       "      <th>Gender</th>\n",
       "      <th>approv_in_adv</th>\n",
       "      <th>loan_type</th>\n",
       "      <th>loan_purpose</th>\n",
       "      <th>Credit_Worthiness</th>\n",
       "      <th>open_credit</th>\n",
       "      <th>business_or_commercial</th>\n",
       "      <th>loan_amount</th>\n",
       "      <th>rate_of_interest</th>\n",
       "      <th>...</th>\n",
       "      <th>credit_type</th>\n",
       "      <th>Credit_Score</th>\n",
       "      <th>co-applicant_credit_type</th>\n",
       "      <th>age</th>\n",
       "      <th>submission_of_application</th>\n",
       "      <th>LTV</th>\n",
       "      <th>Region</th>\n",
       "      <th>Security_Type</th>\n",
       "      <th>Status</th>\n",
       "      <th>dtir1</th>\n",
       "    </tr>\n",
       "  </thead>\n",
       "  <tbody>\n",
       "    <tr>\n",
       "      <th>0</th>\n",
       "      <td>cf</td>\n",
       "      <td>Sex Not Available</td>\n",
       "      <td>nopre</td>\n",
       "      <td>type1</td>\n",
       "      <td>p1</td>\n",
       "      <td>l1</td>\n",
       "      <td>nopc</td>\n",
       "      <td>nob/c</td>\n",
       "      <td>116500</td>\n",
       "      <td>NaN</td>\n",
       "      <td>...</td>\n",
       "      <td>EXP</td>\n",
       "      <td>758</td>\n",
       "      <td>CIB</td>\n",
       "      <td>25-34</td>\n",
       "      <td>to_inst</td>\n",
       "      <td>98.728814</td>\n",
       "      <td>south</td>\n",
       "      <td>direct</td>\n",
       "      <td>1</td>\n",
       "      <td>45.0</td>\n",
       "    </tr>\n",
       "    <tr>\n",
       "      <th>1</th>\n",
       "      <td>cf</td>\n",
       "      <td>Male</td>\n",
       "      <td>nopre</td>\n",
       "      <td>type2</td>\n",
       "      <td>p1</td>\n",
       "      <td>l1</td>\n",
       "      <td>nopc</td>\n",
       "      <td>b/c</td>\n",
       "      <td>206500</td>\n",
       "      <td>NaN</td>\n",
       "      <td>...</td>\n",
       "      <td>EQUI</td>\n",
       "      <td>552</td>\n",
       "      <td>EXP</td>\n",
       "      <td>55-64</td>\n",
       "      <td>to_inst</td>\n",
       "      <td>NaN</td>\n",
       "      <td>North</td>\n",
       "      <td>direct</td>\n",
       "      <td>1</td>\n",
       "      <td>NaN</td>\n",
       "    </tr>\n",
       "    <tr>\n",
       "      <th>2</th>\n",
       "      <td>cf</td>\n",
       "      <td>Male</td>\n",
       "      <td>pre</td>\n",
       "      <td>type1</td>\n",
       "      <td>p1</td>\n",
       "      <td>l1</td>\n",
       "      <td>nopc</td>\n",
       "      <td>nob/c</td>\n",
       "      <td>406500</td>\n",
       "      <td>4.56</td>\n",
       "      <td>...</td>\n",
       "      <td>EXP</td>\n",
       "      <td>834</td>\n",
       "      <td>CIB</td>\n",
       "      <td>35-44</td>\n",
       "      <td>to_inst</td>\n",
       "      <td>80.019685</td>\n",
       "      <td>south</td>\n",
       "      <td>direct</td>\n",
       "      <td>0</td>\n",
       "      <td>46.0</td>\n",
       "    </tr>\n",
       "    <tr>\n",
       "      <th>3</th>\n",
       "      <td>cf</td>\n",
       "      <td>Male</td>\n",
       "      <td>nopre</td>\n",
       "      <td>type1</td>\n",
       "      <td>p4</td>\n",
       "      <td>l1</td>\n",
       "      <td>nopc</td>\n",
       "      <td>nob/c</td>\n",
       "      <td>456500</td>\n",
       "      <td>4.25</td>\n",
       "      <td>...</td>\n",
       "      <td>EXP</td>\n",
       "      <td>587</td>\n",
       "      <td>CIB</td>\n",
       "      <td>45-54</td>\n",
       "      <td>not_inst</td>\n",
       "      <td>69.376900</td>\n",
       "      <td>North</td>\n",
       "      <td>direct</td>\n",
       "      <td>0</td>\n",
       "      <td>42.0</td>\n",
       "    </tr>\n",
       "    <tr>\n",
       "      <th>4</th>\n",
       "      <td>cf</td>\n",
       "      <td>Joint</td>\n",
       "      <td>pre</td>\n",
       "      <td>type1</td>\n",
       "      <td>p1</td>\n",
       "      <td>l1</td>\n",
       "      <td>nopc</td>\n",
       "      <td>nob/c</td>\n",
       "      <td>696500</td>\n",
       "      <td>4.00</td>\n",
       "      <td>...</td>\n",
       "      <td>CRIF</td>\n",
       "      <td>602</td>\n",
       "      <td>EXP</td>\n",
       "      <td>25-34</td>\n",
       "      <td>not_inst</td>\n",
       "      <td>91.886544</td>\n",
       "      <td>North</td>\n",
       "      <td>direct</td>\n",
       "      <td>0</td>\n",
       "      <td>39.0</td>\n",
       "    </tr>\n",
       "  </tbody>\n",
       "</table>\n",
       "<p>5 rows × 32 columns</p>\n",
       "</div>"
      ],
      "text/plain": [
       "  loan_limit             Gender approv_in_adv loan_type loan_purpose  \\\n",
       "0         cf  Sex Not Available         nopre     type1           p1   \n",
       "1         cf               Male         nopre     type2           p1   \n",
       "2         cf               Male           pre     type1           p1   \n",
       "3         cf               Male         nopre     type1           p4   \n",
       "4         cf              Joint           pre     type1           p1   \n",
       "\n",
       "  Credit_Worthiness open_credit business_or_commercial  loan_amount  \\\n",
       "0                l1        nopc                  nob/c       116500   \n",
       "1                l1        nopc                    b/c       206500   \n",
       "2                l1        nopc                  nob/c       406500   \n",
       "3                l1        nopc                  nob/c       456500   \n",
       "4                l1        nopc                  nob/c       696500   \n",
       "\n",
       "   rate_of_interest  ...  credit_type  Credit_Score  co-applicant_credit_type  \\\n",
       "0               NaN  ...          EXP           758                       CIB   \n",
       "1               NaN  ...         EQUI           552                       EXP   \n",
       "2              4.56  ...          EXP           834                       CIB   \n",
       "3              4.25  ...          EXP           587                       CIB   \n",
       "4              4.00  ...         CRIF           602                       EXP   \n",
       "\n",
       "     age submission_of_application        LTV  Region Security_Type Status  \\\n",
       "0  25-34                   to_inst  98.728814   south        direct      1   \n",
       "1  55-64                   to_inst        NaN   North        direct      1   \n",
       "2  35-44                   to_inst  80.019685   south        direct      0   \n",
       "3  45-54                  not_inst  69.376900   North        direct      0   \n",
       "4  25-34                  not_inst  91.886544   North        direct      0   \n",
       "\n",
       "  dtir1  \n",
       "0  45.0  \n",
       "1   NaN  \n",
       "2  46.0  \n",
       "3  42.0  \n",
       "4  39.0  \n",
       "\n",
       "[5 rows x 32 columns]"
      ]
     },
     "execution_count": 6,
     "metadata": {},
     "output_type": "execute_result"
    }
   ],
   "source": [
    "df = df.drop([\"ID\",\"year\"], axis = \"columns\")\n",
    "df.head()"
   ]
  },
  {
   "cell_type": "code",
   "execution_count": 7,
   "id": "8c4440a2",
   "metadata": {
    "execution": {
     "iopub.execute_input": "2024-05-21T12:16:33.514889Z",
     "iopub.status.busy": "2024-05-21T12:16:33.514577Z",
     "iopub.status.idle": "2024-05-21T12:16:33.765100Z",
     "shell.execute_reply": "2024-05-21T12:16:33.764205Z"
    },
    "papermill": {
     "duration": 0.267352,
     "end_time": "2024-05-21T12:16:33.767288",
     "exception": false,
     "start_time": "2024-05-21T12:16:33.499936",
     "status": "completed"
    },
    "tags": []
   },
   "outputs": [
    {
     "data": {
      "text/plain": [
       "<bound method Series.sum of loan_limit                       2\n",
       "Gender                           4\n",
       "approv_in_adv                    2\n",
       "loan_type                        3\n",
       "loan_purpose                     4\n",
       "Credit_Worthiness                2\n",
       "open_credit                      2\n",
       "business_or_commercial           2\n",
       "loan_amount                    211\n",
       "rate_of_interest               131\n",
       "Interest_rate_spread         22516\n",
       "Upfront_charges              58271\n",
       "term                            26\n",
       "Neg_ammortization                2\n",
       "interest_only                    2\n",
       "lump_sum_payment                 2\n",
       "property_value                 385\n",
       "construction_type                2\n",
       "occupancy_type                   3\n",
       "Secured_by                       2\n",
       "total_units                      4\n",
       "income                        1001\n",
       "credit_type                      4\n",
       "Credit_Score                   401\n",
       "co-applicant_credit_type         2\n",
       "age                              7\n",
       "submission_of_application        2\n",
       "LTV                           8484\n",
       "Region                           4\n",
       "Security_Type                    2\n",
       "Status                           2\n",
       "dtir1                           57\n",
       "dtype: int64>"
      ]
     },
     "execution_count": 7,
     "metadata": {},
     "output_type": "execute_result"
    }
   ],
   "source": [
    "df.nunique().sum"
   ]
  },
  {
   "cell_type": "code",
   "execution_count": 8,
   "id": "e2531419",
   "metadata": {
    "execution": {
     "iopub.execute_input": "2024-05-21T12:16:33.796671Z",
     "iopub.status.busy": "2024-05-21T12:16:33.796347Z",
     "iopub.status.idle": "2024-05-21T12:16:33.804618Z",
     "shell.execute_reply": "2024-05-21T12:16:33.803669Z"
    },
    "papermill": {
     "duration": 0.024886,
     "end_time": "2024-05-21T12:16:33.806622",
     "exception": false,
     "start_time": "2024-05-21T12:16:33.781736",
     "status": "completed"
    },
    "tags": []
   },
   "outputs": [
    {
     "name": "stdout",
     "output_type": "stream",
     "text": [
      "Categorical Variables:\n",
      " ['loan_limit', 'Gender', 'approv_in_adv', 'loan_type', 'loan_purpose', 'Credit_Worthiness', 'open_credit', 'business_or_commercial', 'Neg_ammortization', 'interest_only', 'lump_sum_payment', 'construction_type', 'occupancy_type', 'Secured_by', 'total_units', 'credit_type', 'co-applicant_credit_type', 'age', 'submission_of_application', 'Region', 'Security_Type'] \n",
      "\n",
      "Numerical Variables:\n",
      " ['loan_amount', 'rate_of_interest', 'Interest_rate_spread', 'Upfront_charges', 'term', 'property_value', 'income', 'Credit_Score', 'LTV', 'Status', 'dtir1'] \n",
      "\n"
     ]
    }
   ],
   "source": [
    "cat_vars = []\n",
    "num_vars = []\n",
    "for i in df.columns:\n",
    "    if(df[i].dtype == \"object\"):\n",
    "        cat_vars.append(i)\n",
    "    else:\n",
    "        num_vars.append(i)\n",
    "print(\"Categorical Variables:\\n\",cat_vars,\"\\n\")\n",
    "print(\"Numerical Variables:\\n\",num_vars,\"\\n\")"
   ]
  },
  {
   "cell_type": "markdown",
   "id": "8c87a6ce",
   "metadata": {
    "papermill": {
     "duration": 0.014423,
     "end_time": "2024-05-21T12:16:33.835507",
     "exception": false,
     "start_time": "2024-05-21T12:16:33.821084",
     "status": "completed"
    },
    "tags": []
   },
   "source": [
    "## Imputing Numericals vars:"
   ]
  },
  {
   "cell_type": "code",
   "execution_count": 9,
   "id": "255430be",
   "metadata": {
    "execution": {
     "iopub.execute_input": "2024-05-21T12:16:33.865455Z",
     "iopub.status.busy": "2024-05-21T12:16:33.864628Z",
     "iopub.status.idle": "2024-05-21T12:29:18.272294Z",
     "shell.execute_reply": "2024-05-21T12:29:18.271061Z"
    },
    "papermill": {
     "duration": 764.425459,
     "end_time": "2024-05-21T12:29:18.275075",
     "exception": false,
     "start_time": "2024-05-21T12:16:33.849616",
     "status": "completed"
    },
    "tags": []
   },
   "outputs": [],
   "source": [
    "df_num = df[num_vars]\n",
    "knn = KNNImputer(n_neighbors = 3)\n",
    "knn.fit(df_num)\n",
    "X = knn.fit_transform(df_num)\n"
   ]
  },
  {
   "cell_type": "code",
   "execution_count": 10,
   "id": "f5358455",
   "metadata": {
    "execution": {
     "iopub.execute_input": "2024-05-21T12:29:18.307772Z",
     "iopub.status.busy": "2024-05-21T12:29:18.307367Z",
     "iopub.status.idle": "2024-05-21T12:29:18.314087Z",
     "shell.execute_reply": "2024-05-21T12:29:18.313329Z"
    },
    "papermill": {
     "duration": 0.025692,
     "end_time": "2024-05-21T12:29:18.316168",
     "exception": false,
     "start_time": "2024-05-21T12:29:18.290476",
     "status": "completed"
    },
    "tags": []
   },
   "outputs": [
    {
     "data": {
      "text/plain": [
       "array([[ 1.16500000e+05,  3.58333333e+00, -3.12666667e-02, ...,\n",
       "         9.87288136e+01,  1.00000000e+00,  4.50000000e+01],\n",
       "       [ 2.06500000e+05,  3.70833333e+00,  5.22966667e-01, ...,\n",
       "         8.47955494e+01,  1.00000000e+00,  3.46666667e+01],\n",
       "       [ 4.06500000e+05,  4.56000000e+00,  2.00000000e-01, ...,\n",
       "         8.00196850e+01,  0.00000000e+00,  4.60000000e+01],\n",
       "       ...,\n",
       "       [ 4.46500000e+05,  3.12500000e+00,  8.16000000e-02, ...,\n",
       "         6.13324176e+01,  0.00000000e+00,  4.90000000e+01],\n",
       "       [ 1.96500000e+05,  3.50000000e+00,  5.82400000e-01, ...,\n",
       "         7.06834532e+01,  0.00000000e+00,  2.90000000e+01],\n",
       "       [ 4.06500000e+05,  4.37500000e+00,  1.38710000e+00, ...,\n",
       "         7.28494624e+01,  0.00000000e+00,  4.40000000e+01]])"
      ]
     },
     "execution_count": 10,
     "metadata": {},
     "output_type": "execute_result"
    }
   ],
   "source": [
    "X"
   ]
  },
  {
   "cell_type": "code",
   "execution_count": 11,
   "id": "4ff29623",
   "metadata": {
    "execution": {
     "iopub.execute_input": "2024-05-21T12:29:18.352057Z",
     "iopub.status.busy": "2024-05-21T12:29:18.351410Z",
     "iopub.status.idle": "2024-05-21T12:29:18.362504Z",
     "shell.execute_reply": "2024-05-21T12:29:18.361758Z"
    },
    "papermill": {
     "duration": 0.031474,
     "end_time": "2024-05-21T12:29:18.364589",
     "exception": false,
     "start_time": "2024-05-21T12:29:18.333115",
     "status": "completed"
    },
    "tags": []
   },
   "outputs": [
    {
     "data": {
      "text/plain": [
       "loan_amount             0\n",
       "rate_of_interest        0\n",
       "Interest_rate_spread    0\n",
       "Upfront_charges         0\n",
       "term                    0\n",
       "property_value          0\n",
       "income                  0\n",
       "Credit_Score            0\n",
       "LTV                     0\n",
       "Status                  0\n",
       "dtir1                   0\n",
       "dtype: int64"
      ]
     },
     "execution_count": 11,
     "metadata": {},
     "output_type": "execute_result"
    }
   ],
   "source": [
    "df_num = pd.DataFrame(X, columns=num_vars)\n",
    "df_num.isna().sum()"
   ]
  },
  {
   "cell_type": "markdown",
   "id": "49fd4af5",
   "metadata": {
    "papermill": {
     "duration": 0.016818,
     "end_time": "2024-05-21T12:29:18.398271",
     "exception": false,
     "start_time": "2024-05-21T12:29:18.381453",
     "status": "completed"
    },
    "tags": []
   },
   "source": [
    "## Imputing Categorical vars:"
   ]
  },
  {
   "cell_type": "code",
   "execution_count": 12,
   "id": "3c0b29d3",
   "metadata": {
    "execution": {
     "iopub.execute_input": "2024-05-21T12:29:18.433822Z",
     "iopub.status.busy": "2024-05-21T12:29:18.433016Z",
     "iopub.status.idle": "2024-05-21T12:29:19.697168Z",
     "shell.execute_reply": "2024-05-21T12:29:19.696149Z"
    },
    "papermill": {
     "duration": 1.285182,
     "end_time": "2024-05-21T12:29:19.700241",
     "exception": false,
     "start_time": "2024-05-21T12:29:18.415059",
     "status": "completed"
    },
    "tags": []
   },
   "outputs": [
    {
     "data": {
      "text/plain": [
       "loan_limit                   0\n",
       "Gender                       0\n",
       "approv_in_adv                0\n",
       "loan_type                    0\n",
       "loan_purpose                 0\n",
       "Credit_Worthiness            0\n",
       "open_credit                  0\n",
       "business_or_commercial       0\n",
       "Neg_ammortization            0\n",
       "interest_only                0\n",
       "lump_sum_payment             0\n",
       "construction_type            0\n",
       "occupancy_type               0\n",
       "Secured_by                   0\n",
       "total_units                  0\n",
       "credit_type                  0\n",
       "co-applicant_credit_type     0\n",
       "age                          0\n",
       "submission_of_application    0\n",
       "Region                       0\n",
       "Security_Type                0\n",
       "dtype: int64"
      ]
     },
     "execution_count": 12,
     "metadata": {},
     "output_type": "execute_result"
    }
   ],
   "source": [
    "df_cat = df[cat_vars]\n",
    "for i in cat_vars:\n",
    "    mode = df[i].mode()\n",
    "    mode = mode[0]\n",
    "    df_cat[i].fillna(value=mode, inplace=True)\n",
    "\n",
    "df_cat.isna().sum()"
   ]
  },
  {
   "cell_type": "markdown",
   "id": "7f9f34a5",
   "metadata": {
    "papermill": {
     "duration": 0.016499,
     "end_time": "2024-05-21T12:29:19.733549",
     "exception": false,
     "start_time": "2024-05-21T12:29:19.717050",
     "status": "completed"
    },
    "tags": []
   },
   "source": [
    "Joining both dataframes:"
   ]
  },
  {
   "cell_type": "code",
   "execution_count": 13,
   "id": "f08604a1",
   "metadata": {
    "execution": {
     "iopub.execute_input": "2024-05-21T12:29:19.768088Z",
     "iopub.status.busy": "2024-05-21T12:29:19.767326Z",
     "iopub.status.idle": "2024-05-21T12:29:20.130615Z",
     "shell.execute_reply": "2024-05-21T12:29:20.129840Z"
    },
    "papermill": {
     "duration": 0.383179,
     "end_time": "2024-05-21T12:29:20.132713",
     "exception": false,
     "start_time": "2024-05-21T12:29:19.749534",
     "status": "completed"
    },
    "tags": []
   },
   "outputs": [
    {
     "data": {
      "text/plain": [
       "loan_amount                  0\n",
       "rate_of_interest             0\n",
       "Interest_rate_spread         0\n",
       "Upfront_charges              0\n",
       "term                         0\n",
       "property_value               0\n",
       "income                       0\n",
       "Credit_Score                 0\n",
       "LTV                          0\n",
       "Status                       0\n",
       "dtir1                        0\n",
       "loan_limit                   0\n",
       "Gender                       0\n",
       "approv_in_adv                0\n",
       "loan_type                    0\n",
       "loan_purpose                 0\n",
       "Credit_Worthiness            0\n",
       "open_credit                  0\n",
       "business_or_commercial       0\n",
       "Neg_ammortization            0\n",
       "interest_only                0\n",
       "lump_sum_payment             0\n",
       "construction_type            0\n",
       "occupancy_type               0\n",
       "Secured_by                   0\n",
       "total_units                  0\n",
       "credit_type                  0\n",
       "co-applicant_credit_type     0\n",
       "age                          0\n",
       "submission_of_application    0\n",
       "Region                       0\n",
       "Security_Type                0\n",
       "dtype: int64"
      ]
     },
     "execution_count": 13,
     "metadata": {},
     "output_type": "execute_result"
    }
   ],
   "source": [
    "df_full = pd.concat([df_num, df_cat], axis=1, join='inner')\n",
    "df_full.isna().sum()"
   ]
  },
  {
   "cell_type": "markdown",
   "id": "4c968c53",
   "metadata": {
    "papermill": {
     "duration": 0.016066,
     "end_time": "2024-05-21T12:29:20.165321",
     "exception": false,
     "start_time": "2024-05-21T12:29:20.149255",
     "status": "completed"
    },
    "tags": []
   },
   "source": [
    "# Outlier Detection and Removal:"
   ]
  },
  {
   "cell_type": "code",
   "execution_count": 14,
   "id": "e9384430",
   "metadata": {
    "execution": {
     "iopub.execute_input": "2024-05-21T12:29:20.265369Z",
     "iopub.status.busy": "2024-05-21T12:29:20.264421Z",
     "iopub.status.idle": "2024-05-21T12:29:22.210398Z",
     "shell.execute_reply": "2024-05-21T12:29:22.209576Z"
    },
    "papermill": {
     "duration": 2.031436,
     "end_time": "2024-05-21T12:29:22.212830",
     "exception": false,
     "start_time": "2024-05-21T12:29:20.181394",
     "status": "completed"
    },
    "tags": []
   },
   "outputs": [
    {
     "data": {
      "image/png": "[encoded data removed]",
      "text/plain": [
       "<Figure size 2000x2000 with 14 Axes>"
      ]
     },
     "metadata": {},
     "output_type": "display_data"
    }
   ],
   "source": [
    "df_full.plot(kind=\"box\",subplots=True,layout=(7,2),figsize=(20,20));"
   ]
  },
  {
   "cell_type": "markdown",
   "id": "546395c1",
   "metadata": {
    "papermill": {
     "duration": 0.020137,
     "end_time": "2024-05-21T12:29:22.253611",
     "exception": false,
     "start_time": "2024-05-21T12:29:22.233474",
     "status": "completed"
    },
    "tags": []
   },
   "source": [
    "Inference: Almost all numerical variables have outliers present except for Credit_Score."
   ]
  },
  {
   "cell_type": "code",
   "execution_count": 15,
   "id": "f5627f7d",
   "metadata": {
    "execution": {
     "iopub.execute_input": "2024-05-21T12:29:22.290596Z",
     "iopub.status.busy": "2024-05-21T12:29:22.289595Z",
     "iopub.status.idle": "2024-05-21T12:29:24.693681Z",
     "shell.execute_reply": "2024-05-21T12:29:24.692688Z"
    },
    "papermill": {
     "duration": 2.424703,
     "end_time": "2024-05-21T12:29:24.695692",
     "exception": false,
     "start_time": "2024-05-21T12:29:22.270989",
     "status": "completed"
    },
    "tags": []
   },
   "outputs": [
    {
     "name": "stdout",
     "output_type": "stream",
     "text": [
      "Plots after removing outliers:\n",
      "\n"
     ]
    },
    {
     "data": {
      "text/plain": [
       "loan_amount                Axes(0.125,0.786098;0.352273x0.0939024)\n",
       "rate_of_interest        Axes(0.547727,0.786098;0.352273x0.0939024)\n",
       "Interest_rate_spread       Axes(0.125,0.673415;0.352273x0.0939024)\n",
       "Upfront_charges         Axes(0.547727,0.673415;0.352273x0.0939024)\n",
       "term                       Axes(0.125,0.560732;0.352273x0.0939024)\n",
       "property_value          Axes(0.547727,0.560732;0.352273x0.0939024)\n",
       "income                     Axes(0.125,0.448049;0.352273x0.0939024)\n",
       "Credit_Score            Axes(0.547727,0.448049;0.352273x0.0939024)\n",
       "LTV                        Axes(0.125,0.335366;0.352273x0.0939024)\n",
       "Status                  Axes(0.547727,0.335366;0.352273x0.0939024)\n",
       "dtir1                      Axes(0.125,0.222683;0.352273x0.0939024)\n",
       "dtype: object"
      ]
     },
     "execution_count": 15,
     "metadata": {},
     "output_type": "execute_result"
    },
    {
     "data": {
      "image/png": "[encoded data removed]",
      "text/plain": [
       "<Figure size 2000x2000 with 14 Axes>"
      ]
     },
     "metadata": {},
     "output_type": "display_data"
    }
   ],
   "source": [
    "def drop_outliers(df, field_name):\n",
    "    iqr = 1.5 * (np.percentile(df[field_name], 75) - np.percentile(df[field_name], 25))\n",
    "    upper_bound = iqr + np.percentile(df[field_name], 75)\n",
    "    lower_bound = np.percentile(df[field_name], 25) - iqr\n",
    "\n",
    "    if ((df[field_name] > upper_bound) | (df[field_name] < lower_bound)).empty:\n",
    "        print(\"No outliers to drop.\")\n",
    "        return\n",
    "\n",
    "    df.drop(df[(df[field_name] > upper_bound) | (df[field_name] < lower_bound)].index, inplace=True)\n",
    "\n",
    "drop_outliers(df_full, \"loan_amount\")\n",
    "drop_outliers(df_full, \"rate_of_interest\")\n",
    "drop_outliers(df_full, \"Interest_rate_spread\")\n",
    "drop_outliers(df_full, \"Upfront_charges\")\n",
    "drop_outliers(df_full, \"property_value\")\n",
    "drop_outliers(df_full, \"income\")\n",
    "drop_outliers(df_full, \"LTV\")\n",
    "drop_outliers(df_full, \"Status\")\n",
    "drop_outliers(df_full, \"term\")\n",
    "drop_outliers(df_full, \"dtir1\")\n",
    "\n",
    "print(\"Plots after removing outliers:\\n\")\n",
    "df_full.plot(kind=\"box\", subplots=True, layout=(7,2), figsize=(20,20))\n"
   ]
  },
  {
   "cell_type": "markdown",
   "id": "b5a46a5f",
   "metadata": {
    "papermill": {
     "duration": 0.018831,
     "end_time": "2024-05-21T12:29:24.733422",
     "exception": false,
     "start_time": "2024-05-21T12:29:24.714591",
     "status": "completed"
    },
    "tags": []
   },
   "source": [
    "Inference: Outliers have been removed."
   ]
  },
  {
   "cell_type": "code",
   "execution_count": 16,
   "id": "4499ec1f",
   "metadata": {
    "execution": {
     "iopub.execute_input": "2024-05-21T12:29:24.772880Z",
     "iopub.status.busy": "2024-05-21T12:29:24.772488Z",
     "iopub.status.idle": "2024-05-21T12:29:24.778453Z",
     "shell.execute_reply": "2024-05-21T12:29:24.777548Z"
    },
    "papermill": {
     "duration": 0.027981,
     "end_time": "2024-05-21T12:29:24.780433",
     "exception": false,
     "start_time": "2024-05-21T12:29:24.752452",
     "status": "completed"
    },
    "tags": []
   },
   "outputs": [
    {
     "data": {
      "text/plain": [
       "(102473, 32)"
      ]
     },
     "execution_count": 16,
     "metadata": {},
     "output_type": "execute_result"
    }
   ],
   "source": [
    "df_full.shape"
   ]
  },
  {
   "cell_type": "code",
   "execution_count": 17,
   "id": "c68f4347",
   "metadata": {
    "execution": {
     "iopub.execute_input": "2024-05-21T12:29:24.820568Z",
     "iopub.status.busy": "2024-05-21T12:29:24.820177Z",
     "iopub.status.idle": "2024-05-21T12:29:25.570514Z",
     "shell.execute_reply": "2024-05-21T12:29:25.569753Z"
    },
    "papermill": {
     "duration": 0.773639,
     "end_time": "2024-05-21T12:29:25.573309",
     "exception": false,
     "start_time": "2024-05-21T12:29:24.799670",
     "status": "completed"
    },
    "tags": []
   },
   "outputs": [
    {
     "data": {
      "text/plain": [
       "<Axes: >"
      ]
     },
     "execution_count": 17,
     "metadata": {},
     "output_type": "execute_result"
    },
    {
     "data": {
      "image/png": "[encoded data removed]",
      "text/plain": [
       "<Figure size 1600x600 with 2 Axes>"
      ]
     },
     "metadata": {},
     "output_type": "display_data"
    }
   ],
   "source": [
    "corr = df_full[num_vars].corr()\n",
    "plt.figure(figsize=(16, 6))\n",
    "sns.heatmap(data = corr, vmin=-1, vmax=1, annot=True)"
   ]
  },
  {
   "cell_type": "markdown",
   "id": "139b802f",
   "metadata": {
    "papermill": {
     "duration": 0.021394,
     "end_time": "2024-05-21T12:29:25.616970",
     "exception": false,
     "start_time": "2024-05-21T12:29:25.595576",
     "status": "completed"
    },
    "tags": []
   },
   "source": [
    "Inference: High positive Correlation can be seen between property_value and loan_amount ."
   ]
  },
  {
   "cell_type": "markdown",
   "id": "7955f210",
   "metadata": {
    "papermill": {
     "duration": 0.020293,
     "end_time": "2024-05-21T12:29:25.658229",
     "exception": false,
     "start_time": "2024-05-21T12:29:25.637936",
     "status": "completed"
    },
    "tags": []
   },
   "source": [
    "# Encoding Categorical Variables:"
   ]
  },
  {
   "cell_type": "code",
   "execution_count": 18,
   "id": "1a125ad0",
   "metadata": {
    "execution": {
     "iopub.execute_input": "2024-05-21T12:29:25.701086Z",
     "iopub.status.busy": "2024-05-21T12:29:25.700458Z",
     "iopub.status.idle": "2024-05-21T12:29:25.893244Z",
     "shell.execute_reply": "2024-05-21T12:29:25.892064Z"
    },
    "papermill": {
     "duration": 0.216901,
     "end_time": "2024-05-21T12:29:25.895704",
     "exception": false,
     "start_time": "2024-05-21T12:29:25.678803",
     "status": "completed"
    },
    "tags": []
   },
   "outputs": [
    {
     "name": "stdout",
     "output_type": "stream",
     "text": [
      "<bound method Series.sum of loan_limit                   2\n",
      "Gender                       4\n",
      "approv_in_adv                2\n",
      "loan_type                    3\n",
      "loan_purpose                 4\n",
      "Credit_Worthiness            2\n",
      "open_credit                  2\n",
      "business_or_commercial       2\n",
      "Neg_ammortization            2\n",
      "interest_only                2\n",
      "lump_sum_payment             2\n",
      "construction_type            2\n",
      "occupancy_type               3\n",
      "Secured_by                   2\n",
      "total_units                  4\n",
      "credit_type                  4\n",
      "co-applicant_credit_type     2\n",
      "age                          7\n",
      "submission_of_application    2\n",
      "Region                       4\n",
      "Security_Type                2\n",
      "dtype: int64>\n"
     ]
    }
   ],
   "source": [
    "print(df_full[cat_vars].nunique().sum)"
   ]
  },
  {
   "cell_type": "code",
   "execution_count": 19,
   "id": "023b5f93",
   "metadata": {
    "execution": {
     "iopub.execute_input": "2024-05-21T12:29:25.941960Z",
     "iopub.status.busy": "2024-05-21T12:29:25.940915Z",
     "iopub.status.idle": "2024-05-21T12:29:26.563577Z",
     "shell.execute_reply": "2024-05-21T12:29:26.562550Z"
    },
    "papermill": {
     "duration": 0.648696,
     "end_time": "2024-05-21T12:29:26.566412",
     "exception": false,
     "start_time": "2024-05-21T12:29:25.917716",
     "status": "completed"
    },
    "tags": []
   },
   "outputs": [],
   "source": [
    "label = LabelEncoder()\n",
    "for i in cat_vars:\n",
    "    df_full[i] = label.fit_transform(df_full[i])"
   ]
  },
  {
   "cell_type": "code",
   "execution_count": 20,
   "id": "78541aa0",
   "metadata": {
    "execution": {
     "iopub.execute_input": "2024-05-21T12:29:26.611214Z",
     "iopub.status.busy": "2024-05-21T12:29:26.610828Z",
     "iopub.status.idle": "2024-05-21T12:29:26.628455Z",
     "shell.execute_reply": "2024-05-21T12:29:26.626972Z"
    },
    "papermill": {
     "duration": 0.042107,
     "end_time": "2024-05-21T12:29:26.630561",
     "exception": false,
     "start_time": "2024-05-21T12:29:26.588454",
     "status": "completed"
    },
    "tags": []
   },
   "outputs": [
    {
     "name": "stdout",
     "output_type": "stream",
     "text": [
      "<class 'pandas.core.frame.DataFrame'>\n",
      "Index: 102473 entries, 0 to 148666\n",
      "Data columns (total 32 columns):\n",
      " #   Column                     Non-Null Count   Dtype  \n",
      "---  ------                     --------------   -----  \n",
      " 0   loan_amount                102473 non-null  float64\n",
      " 1   rate_of_interest           102473 non-null  float64\n",
      " 2   Interest_rate_spread       102473 non-null  float64\n",
      " 3   Upfront_charges            102473 non-null  float64\n",
      " 4   term                       102473 non-null  float64\n",
      " 5   property_value             102473 non-null  float64\n",
      " 6   income                     102473 non-null  float64\n",
      " 7   Credit_Score               102473 non-null  float64\n",
      " 8   LTV                        102473 non-null  float64\n",
      " 9   Status                     102473 non-null  float64\n",
      " 10  dtir1                      102473 non-null  float64\n",
      " 11  loan_limit                 102473 non-null  int64  \n",
      " 12  Gender                     102473 non-null  int64  \n",
      " 13  approv_in_adv              102473 non-null  int64  \n",
      " 14  loan_type                  102473 non-null  int64  \n",
      " 15  loan_purpose               102473 non-null  int64  \n",
      " 16  Credit_Worthiness          102473 non-null  int64  \n",
      " 17  open_credit                102473 non-null  int64  \n",
      " 18  business_or_commercial     102473 non-null  int64  \n",
      " 19  Neg_ammortization          102473 non-null  int64  \n",
      " 20  interest_only              102473 non-null  int64  \n",
      " 21  lump_sum_payment           102473 non-null  int64  \n",
      " 22  construction_type          102473 non-null  int64  \n",
      " 23  occupancy_type             102473 non-null  int64  \n",
      " 24  Secured_by                 102473 non-null  int64  \n",
      " 25  total_units                102473 non-null  int64  \n",
      " 26  credit_type                102473 non-null  int64  \n",
      " 27  co-applicant_credit_type   102473 non-null  int64  \n",
      " 28  age                        102473 non-null  int64  \n",
      " 29  submission_of_application  102473 non-null  int64  \n",
      " 30  Region                     102473 non-null  int64  \n",
      " 31  Security_Type              102473 non-null  int64  \n",
      "dtypes: float64(11), int64(21)\n",
      "memory usage: 25.8 MB\n"
     ]
    }
   ],
   "source": [
    "df_full.info()"
   ]
  },
  {
   "cell_type": "markdown",
   "id": "1cf29afc",
   "metadata": {
    "papermill": {
     "duration": 0.021469,
     "end_time": "2024-05-21T12:29:26.674551",
     "exception": false,
     "start_time": "2024-05-21T12:29:26.653082",
     "status": "completed"
    },
    "tags": []
   },
   "source": [
    "Data is cleaned now"
   ]
  },
  {
   "cell_type": "markdown",
   "id": "2d6d08ad",
   "metadata": {
    "papermill": {
     "duration": 0.020459,
     "end_time": "2024-05-21T12:29:26.715825",
     "exception": false,
     "start_time": "2024-05-21T12:29:26.695366",
     "status": "completed"
    },
    "tags": []
   },
   "source": [
    "# Train test split"
   ]
  },
  {
   "cell_type": "code",
   "execution_count": 21,
   "id": "63998f97",
   "metadata": {
    "execution": {
     "iopub.execute_input": "2024-05-21T12:29:26.759836Z",
     "iopub.status.busy": "2024-05-21T12:29:26.759098Z",
     "iopub.status.idle": "2024-05-21T12:29:26.814119Z",
     "shell.execute_reply": "2024-05-21T12:29:26.813296Z"
    },
    "papermill": {
     "duration": 0.079721,
     "end_time": "2024-05-21T12:29:26.816570",
     "exception": false,
     "start_time": "2024-05-21T12:29:26.736849",
     "status": "completed"
    },
    "tags": []
   },
   "outputs": [],
   "source": [
    "train_set, test_set = train_test_split(df_full, test_size=0.2, random_state=42)\n",
    "\n",
    "y_train = train_set['Status']\n",
    "X_train = train_set.drop(columns=['Status'])\n",
    "y_test = test_set['Status']\n",
    "X_test = test_set.drop(columns=['Status'])"
   ]
  },
  {
   "cell_type": "code",
   "execution_count": 22,
   "id": "dc27aa6c",
   "metadata": {
    "execution": {
     "iopub.execute_input": "2024-05-21T12:29:26.862967Z",
     "iopub.status.busy": "2024-05-21T12:29:26.862372Z",
     "iopub.status.idle": "2024-05-21T12:29:26.868572Z",
     "shell.execute_reply": "2024-05-21T12:29:26.867548Z"
    },
    "papermill": {
     "duration": 0.031838,
     "end_time": "2024-05-21T12:29:26.870798",
     "exception": false,
     "start_time": "2024-05-21T12:29:26.838960",
     "status": "completed"
    },
    "tags": []
   },
   "outputs": [
    {
     "name": "stdout",
     "output_type": "stream",
     "text": [
      "Shape of x_train:  (81978, 31)\n",
      "Shape of y_train:  (81978,)\n",
      "Shape of x_test:  (20495, 31)\n",
      "Shape of y_test:  (20495,)\n"
     ]
    }
   ],
   "source": [
    "print(\"Shape of x_train: \", X_train.shape)\n",
    "print(\"Shape of y_train: \", y_train.shape)\n",
    "print(\"Shape of x_test: \", X_test.shape)\n",
    "print(\"Shape of y_test: \", y_test.shape)"
   ]
  },
  {
   "cell_type": "markdown",
   "id": "ae04d9c1",
   "metadata": {
    "papermill": {
     "duration": 0.021573,
     "end_time": "2024-05-21T12:29:26.914369",
     "exception": false,
     "start_time": "2024-05-21T12:29:26.892796",
     "status": "completed"
    },
    "tags": []
   },
   "source": [
    "# Initialzing Boosting Models:"
   ]
  },
  {
   "cell_type": "code",
   "execution_count": 23,
   "id": "6296e18d",
   "metadata": {
    "execution": {
     "iopub.execute_input": "2024-05-21T12:29:26.957856Z",
     "iopub.status.busy": "2024-05-21T12:29:26.957447Z",
     "iopub.status.idle": "2024-05-21T12:29:26.965458Z",
     "shell.execute_reply": "2024-05-21T12:29:26.964327Z"
    },
    "papermill": {
     "duration": 0.032532,
     "end_time": "2024-05-21T12:29:26.967793",
     "exception": false,
     "start_time": "2024-05-21T12:29:26.935261",
     "status": "completed"
    },
    "tags": []
   },
   "outputs": [],
   "source": [
    "gdb = GradientBoostingClassifier(random_state = 42)\n",
    "adab = AdaBoostClassifier(random_state = 42)\n",
    "lgb = LGBMClassifier(random_state = 42)\n",
    "catb = CatBoostClassifier(random_state = 42)\n",
    "xgb = XGBClassifier(random_state = 42)"
   ]
  },
  {
   "cell_type": "markdown",
   "id": "adb57a7a",
   "metadata": {
    "papermill": {
     "duration": 0.022073,
     "end_time": "2024-05-21T12:29:27.012248",
     "exception": false,
     "start_time": "2024-05-21T12:29:26.990175",
     "status": "completed"
    },
    "tags": []
   },
   "source": [
    "# Gradient Boosting:"
   ]
  },
  {
   "cell_type": "code",
   "execution_count": 24,
   "id": "7d82f3f3",
   "metadata": {
    "execution": {
     "iopub.execute_input": "2024-05-21T12:29:27.058583Z",
     "iopub.status.busy": "2024-05-21T12:29:27.057938Z",
     "iopub.status.idle": "2024-05-21T12:29:49.410289Z",
     "shell.execute_reply": "2024-05-21T12:29:49.409171Z"
    },
    "papermill": {
     "duration": 22.378492,
     "end_time": "2024-05-21T12:29:49.412750",
     "exception": false,
     "start_time": "2024-05-21T12:29:27.034258",
     "status": "completed"
    },
    "tags": []
   },
   "outputs": [
    {
     "name": "stdout",
     "output_type": "stream",
     "text": [
      "Accuracy : 0.9369114418150768\n",
      "\n",
      "\n",
      "              precision    recall  f1-score   support\n",
      "\n",
      "         0.0       0.93      0.99      0.96     15339\n",
      "         1.0       0.97      0.77      0.86      5156\n",
      "\n",
      "    accuracy                           0.94     20495\n",
      "   macro avg       0.95      0.88      0.91     20495\n",
      "weighted avg       0.94      0.94      0.93     20495\n",
      "\n"
     ]
    }
   ],
   "source": [
    "gdb.fit(X_train, y_train)\n",
    "y_pred_gdb = gdb.predict(X_test)\n",
    "print('Accuracy :',accuracy_score(y_test, y_pred_gdb))\n",
    "print(\"\\n\")\n",
    "print(classification_report(y_test, y_pred_gdb))"
   ]
  },
  {
   "cell_type": "markdown",
   "id": "514cc58b",
   "metadata": {
    "papermill": {
     "duration": 0.022349,
     "end_time": "2024-05-21T12:29:49.457450",
     "exception": false,
     "start_time": "2024-05-21T12:29:49.435101",
     "status": "completed"
    },
    "tags": []
   },
   "source": [
    "# XGBoost:"
   ]
  },
  {
   "cell_type": "code",
   "execution_count": 25,
   "id": "2642e215",
   "metadata": {
    "execution": {
     "iopub.execute_input": "2024-05-21T12:29:49.505089Z",
     "iopub.status.busy": "2024-05-21T12:29:49.504668Z",
     "iopub.status.idle": "2024-05-21T12:29:50.630524Z",
     "shell.execute_reply": "2024-05-21T12:29:50.629624Z"
    },
    "papermill": {
     "duration": 1.152435,
     "end_time": "2024-05-21T12:29:50.632980",
     "exception": false,
     "start_time": "2024-05-21T12:29:49.480545",
     "status": "completed"
    },
    "tags": []
   },
   "outputs": [
    {
     "name": "stdout",
     "output_type": "stream",
     "text": [
      "Accuracy : 0.9747743352037083\n",
      "\n",
      "\n",
      "              precision    recall  f1-score   support\n",
      "\n",
      "         0.0       0.97      0.99      0.98     15339\n",
      "         1.0       0.98      0.92      0.95      5156\n",
      "\n",
      "    accuracy                           0.97     20495\n",
      "   macro avg       0.98      0.96      0.97     20495\n",
      "weighted avg       0.97      0.97      0.97     20495\n",
      "\n"
     ]
    }
   ],
   "source": [
    "xgb.fit(X_train, y_train)\n",
    "y_pred_xgb = xgb.predict(X_test)\n",
    "print('Accuracy :',accuracy_score(y_test, y_pred_xgb))\n",
    "print(\"\\n\")\n",
    "print(classification_report(y_test, y_pred_xgb))"
   ]
  },
  {
   "cell_type": "markdown",
   "id": "9abd6b60",
   "metadata": {
    "papermill": {
     "duration": 0.023276,
     "end_time": "2024-05-21T12:29:50.678595",
     "exception": false,
     "start_time": "2024-05-21T12:29:50.655319",
     "status": "completed"
    },
    "tags": []
   },
   "source": [
    "Using SelectFromModel approach on XGBoost to select features with specified threshold of importance."
   ]
  },
  {
   "cell_type": "code",
   "execution_count": 26,
   "id": "aa255f42",
   "metadata": {
    "execution": {
     "iopub.execute_input": "2024-05-21T12:29:50.725573Z",
     "iopub.status.busy": "2024-05-21T12:29:50.725199Z",
     "iopub.status.idle": "2024-05-21T12:29:51.757394Z",
     "shell.execute_reply": "2024-05-21T12:29:51.756468Z"
    },
    "papermill": {
     "duration": 1.058697,
     "end_time": "2024-05-21T12:29:51.759981",
     "exception": false,
     "start_time": "2024-05-21T12:29:50.701284",
     "status": "completed"
    },
    "tags": []
   },
   "outputs": [
    {
     "name": "stdout",
     "output_type": "stream",
     "text": [
      "Index(['rate_of_interest', 'loan_type', 'Neg_ammortization',\n",
      "       'lump_sum_payment', 'credit_type', 'submission_of_application'],\n",
      "      dtype='object')\n"
     ]
    }
   ],
   "source": [
    "from sklearn.feature_selection import SelectFromModel\n",
    "sfm = SelectFromModel(xgb)\n",
    "\n",
    "xgb2 = sfm.fit(X_train, y_train)\n",
    "selected_features = X_train.columns[sfm.get_support()]\n",
    "print(selected_features)"
   ]
  },
  {
   "cell_type": "markdown",
   "id": "d6c19bc3",
   "metadata": {
    "papermill": {
     "duration": 0.022422,
     "end_time": "2024-05-21T12:29:51.806023",
     "exception": false,
     "start_time": "2024-05-21T12:29:51.783601",
     "status": "completed"
    },
    "tags": []
   },
   "source": [
    "# LightGBM:"
   ]
  },
  {
   "cell_type": "code",
   "execution_count": 27,
   "id": "f4a64dcf",
   "metadata": {
    "execution": {
     "iopub.execute_input": "2024-05-21T12:29:51.853627Z",
     "iopub.status.busy": "2024-05-21T12:29:51.852472Z",
     "iopub.status.idle": "2024-05-21T12:29:53.725514Z",
     "shell.execute_reply": "2024-05-21T12:29:53.724005Z"
    },
    "papermill": {
     "duration": 1.899478,
     "end_time": "2024-05-21T12:29:53.728036",
     "exception": false,
     "start_time": "2024-05-21T12:29:51.828558",
     "status": "completed"
    },
    "tags": []
   },
   "outputs": [
    {
     "name": "stdout",
     "output_type": "stream",
     "text": [
      "[LightGBM] [Info] Number of positive: 20577, number of negative: 61401\n",
      "[LightGBM] [Info] Auto-choosing row-wise multi-threading, the overhead of testing was 0.015602 seconds.\n",
      "You can set `force_row_wise=true` to remove the overhead.\n",
      "And if memory is not enough, you can set `force_col_wise=true`.\n",
      "[LightGBM] [Info] Total Bins 1901\n",
      "[LightGBM] [Info] Number of data points in the train set: 81978, number of used features: 30\n",
      "[LightGBM] [Info] [binary:BoostFromScore]: pavg=0.251006 -> initscore=-1.093252\n",
      "[LightGBM] [Info] Start training from score -1.093252\n",
      "Accuracy : 0.9813125152476214\n",
      "\n",
      "\n",
      "              precision    recall  f1-score   support\n",
      "\n",
      "         0.0       0.98      1.00      0.99     15339\n",
      "         1.0       0.99      0.94      0.96      5156\n",
      "\n",
      "    accuracy                           0.98     20495\n",
      "   macro avg       0.98      0.97      0.97     20495\n",
      "weighted avg       0.98      0.98      0.98     20495\n",
      "\n"
     ]
    }
   ],
   "source": [
    "lgb.fit(X_train, y_train)\n",
    "y_pred_lgb = lgb.predict(X_test)\n",
    "print('Accuracy :',accuracy_score(y_test, y_pred_lgb))\n",
    "print(\"\\n\")\n",
    "print(classification_report(y_test, y_pred_lgb))"
   ]
  },
  {
   "cell_type": "markdown",
   "id": "bf7aa24c",
   "metadata": {
    "papermill": {
     "duration": 0.022758,
     "end_time": "2024-05-21T12:29:53.774184",
     "exception": false,
     "start_time": "2024-05-21T12:29:53.751426",
     "status": "completed"
    },
    "tags": []
   },
   "source": [
    "# CatBoost:"
   ]
  },
  {
   "cell_type": "code",
   "execution_count": 28,
   "id": "724d5bfd",
   "metadata": {
    "execution": {
     "iopub.execute_input": "2024-05-21T12:29:53.822038Z",
     "iopub.status.busy": "2024-05-21T12:29:53.821604Z",
     "iopub.status.idle": "2024-05-21T12:30:11.001233Z",
     "shell.execute_reply": "2024-05-21T12:30:10.999929Z"
    },
    "papermill": {
     "duration": 17.207101,
     "end_time": "2024-05-21T12:30:11.004077",
     "exception": false,
     "start_time": "2024-05-21T12:29:53.796976",
     "status": "completed"
    },
    "tags": []
   },
   "outputs": [
    {
     "name": "stdout",
     "output_type": "stream",
     "text": [
      "Learning rate set to 0.067621\n",
      "0:\tlearn: 0.6194468\ttotal: 74.6ms\tremaining: 1m 14s\n",
      "1:\tlearn: 0.5619323\ttotal: 97.2ms\tremaining: 48.5s\n",
      "2:\tlearn: 0.5273232\ttotal: 115ms\tremaining: 38.1s\n",
      "3:\tlearn: 0.4999902\ttotal: 133ms\tremaining: 33.1s\n",
      "4:\tlearn: 0.4751753\ttotal: 150ms\tremaining: 29.9s\n",
      "5:\tlearn: 0.4530342\ttotal: 168ms\tremaining: 27.8s\n",
      "6:\tlearn: 0.4239151\ttotal: 187ms\tremaining: 26.6s\n",
      "7:\tlearn: 0.3981619\ttotal: 204ms\tremaining: 25.3s\n",
      "8:\tlearn: 0.3834097\ttotal: 220ms\tremaining: 24.2s\n",
      "9:\tlearn: 0.3718269\ttotal: 237ms\tremaining: 23.4s\n",
      "10:\tlearn: 0.3558495\ttotal: 253ms\tremaining: 22.7s\n",
      "11:\tlearn: 0.3457303\ttotal: 270ms\tremaining: 22.2s\n",
      "12:\tlearn: 0.3354237\ttotal: 286ms\tremaining: 21.7s\n",
      "13:\tlearn: 0.3277177\ttotal: 302ms\tremaining: 21.3s\n",
      "14:\tlearn: 0.3201628\ttotal: 317ms\tremaining: 20.8s\n",
      "15:\tlearn: 0.3085839\ttotal: 334ms\tremaining: 20.5s\n",
      "16:\tlearn: 0.3016052\ttotal: 349ms\tremaining: 20.2s\n",
      "17:\tlearn: 0.2965985\ttotal: 365ms\tremaining: 19.9s\n",
      "18:\tlearn: 0.2907999\ttotal: 384ms\tremaining: 19.8s\n",
      "19:\tlearn: 0.2859405\ttotal: 401ms\tremaining: 19.6s\n",
      "20:\tlearn: 0.2810459\ttotal: 418ms\tremaining: 19.5s\n",
      "21:\tlearn: 0.2761314\ttotal: 434ms\tremaining: 19.3s\n",
      "22:\tlearn: 0.2716381\ttotal: 449ms\tremaining: 19.1s\n",
      "23:\tlearn: 0.2675580\ttotal: 465ms\tremaining: 18.9s\n",
      "24:\tlearn: 0.2630382\ttotal: 481ms\tremaining: 18.8s\n",
      "25:\tlearn: 0.2583911\ttotal: 497ms\tremaining: 18.6s\n",
      "26:\tlearn: 0.2551499\ttotal: 513ms\tremaining: 18.5s\n",
      "27:\tlearn: 0.2521450\ttotal: 529ms\tremaining: 18.3s\n",
      "28:\tlearn: 0.2490739\ttotal: 544ms\tremaining: 18.2s\n",
      "29:\tlearn: 0.2461048\ttotal: 561ms\tremaining: 18.1s\n",
      "30:\tlearn: 0.2410606\ttotal: 579ms\tremaining: 18.1s\n",
      "31:\tlearn: 0.2388940\ttotal: 594ms\tremaining: 18s\n",
      "32:\tlearn: 0.2362645\ttotal: 614ms\tremaining: 18s\n",
      "33:\tlearn: 0.2338320\ttotal: 630ms\tremaining: 17.9s\n",
      "34:\tlearn: 0.2313912\ttotal: 645ms\tremaining: 17.8s\n",
      "35:\tlearn: 0.2295832\ttotal: 661ms\tremaining: 17.7s\n",
      "36:\tlearn: 0.2273216\ttotal: 678ms\tremaining: 17.6s\n",
      "37:\tlearn: 0.2255313\ttotal: 694ms\tremaining: 17.6s\n",
      "38:\tlearn: 0.2220273\ttotal: 711ms\tremaining: 17.5s\n",
      "39:\tlearn: 0.2201478\ttotal: 727ms\tremaining: 17.4s\n",
      "40:\tlearn: 0.2157015\ttotal: 743ms\tremaining: 17.4s\n",
      "41:\tlearn: 0.2143056\ttotal: 759ms\tremaining: 17.3s\n",
      "42:\tlearn: 0.2128356\ttotal: 777ms\tremaining: 17.3s\n",
      "43:\tlearn: 0.2112257\ttotal: 795ms\tremaining: 17.3s\n",
      "44:\tlearn: 0.2081709\ttotal: 812ms\tremaining: 17.2s\n",
      "45:\tlearn: 0.2074436\ttotal: 830ms\tremaining: 17.2s\n",
      "46:\tlearn: 0.2052944\ttotal: 848ms\tremaining: 17.2s\n",
      "47:\tlearn: 0.2023874\ttotal: 865ms\tremaining: 17.2s\n",
      "48:\tlearn: 0.2002070\ttotal: 882ms\tremaining: 17.1s\n",
      "49:\tlearn: 0.1980515\ttotal: 903ms\tremaining: 17.1s\n",
      "50:\tlearn: 0.1958391\ttotal: 919ms\tremaining: 17.1s\n",
      "51:\tlearn: 0.1932874\ttotal: 935ms\tremaining: 17s\n",
      "52:\tlearn: 0.1900705\ttotal: 952ms\tremaining: 17s\n",
      "53:\tlearn: 0.1889913\ttotal: 966ms\tremaining: 16.9s\n",
      "54:\tlearn: 0.1865357\ttotal: 982ms\tremaining: 16.9s\n",
      "55:\tlearn: 0.1845468\ttotal: 999ms\tremaining: 16.8s\n",
      "56:\tlearn: 0.1823558\ttotal: 1.01s\tremaining: 16.8s\n",
      "57:\tlearn: 0.1801469\ttotal: 1.03s\tremaining: 16.8s\n",
      "58:\tlearn: 0.1790273\ttotal: 1.05s\tremaining: 16.7s\n",
      "59:\tlearn: 0.1780153\ttotal: 1.07s\tremaining: 16.7s\n",
      "60:\tlearn: 0.1768987\ttotal: 1.08s\tremaining: 16.7s\n",
      "61:\tlearn: 0.1753635\ttotal: 1.1s\tremaining: 16.7s\n",
      "62:\tlearn: 0.1742379\ttotal: 1.11s\tremaining: 16.6s\n",
      "63:\tlearn: 0.1731506\ttotal: 1.13s\tremaining: 16.5s\n",
      "64:\tlearn: 0.1715336\ttotal: 1.15s\tremaining: 16.5s\n",
      "65:\tlearn: 0.1708027\ttotal: 1.16s\tremaining: 16.5s\n",
      "66:\tlearn: 0.1700569\ttotal: 1.18s\tremaining: 16.4s\n",
      "67:\tlearn: 0.1677379\ttotal: 1.2s\tremaining: 16.4s\n",
      "68:\tlearn: 0.1669412\ttotal: 1.21s\tremaining: 16.4s\n",
      "69:\tlearn: 0.1661596\ttotal: 1.23s\tremaining: 16.3s\n",
      "70:\tlearn: 0.1634268\ttotal: 1.25s\tremaining: 16.3s\n",
      "71:\tlearn: 0.1619419\ttotal: 1.26s\tremaining: 16.3s\n",
      "72:\tlearn: 0.1610536\ttotal: 1.28s\tremaining: 16.2s\n",
      "73:\tlearn: 0.1594026\ttotal: 1.29s\tremaining: 16.2s\n",
      "74:\tlearn: 0.1582114\ttotal: 1.31s\tremaining: 16.2s\n",
      "75:\tlearn: 0.1574008\ttotal: 1.33s\tremaining: 16.1s\n",
      "76:\tlearn: 0.1566786\ttotal: 1.34s\tremaining: 16.1s\n",
      "77:\tlearn: 0.1554772\ttotal: 1.36s\tremaining: 16.1s\n",
      "78:\tlearn: 0.1542875\ttotal: 1.38s\tremaining: 16.1s\n",
      "79:\tlearn: 0.1538944\ttotal: 1.39s\tremaining: 16s\n",
      "80:\tlearn: 0.1530564\ttotal: 1.41s\tremaining: 16s\n",
      "81:\tlearn: 0.1527501\ttotal: 1.42s\tremaining: 15.9s\n",
      "82:\tlearn: 0.1516343\ttotal: 1.44s\tremaining: 15.9s\n",
      "83:\tlearn: 0.1509398\ttotal: 1.46s\tremaining: 15.9s\n",
      "84:\tlearn: 0.1503508\ttotal: 1.47s\tremaining: 15.9s\n",
      "85:\tlearn: 0.1495207\ttotal: 1.49s\tremaining: 15.8s\n",
      "86:\tlearn: 0.1489073\ttotal: 1.5s\tremaining: 15.8s\n",
      "87:\tlearn: 0.1485467\ttotal: 1.52s\tremaining: 15.7s\n",
      "88:\tlearn: 0.1475698\ttotal: 1.53s\tremaining: 15.7s\n",
      "89:\tlearn: 0.1471890\ttotal: 1.55s\tremaining: 15.7s\n",
      "90:\tlearn: 0.1466547\ttotal: 1.57s\tremaining: 15.7s\n",
      "91:\tlearn: 0.1464241\ttotal: 1.58s\tremaining: 15.6s\n",
      "92:\tlearn: 0.1455228\ttotal: 1.6s\tremaining: 15.6s\n",
      "93:\tlearn: 0.1443922\ttotal: 1.62s\tremaining: 15.6s\n",
      "94:\tlearn: 0.1436056\ttotal: 1.64s\tremaining: 15.6s\n",
      "95:\tlearn: 0.1416885\ttotal: 1.65s\tremaining: 15.6s\n",
      "96:\tlearn: 0.1410361\ttotal: 1.67s\tremaining: 15.6s\n",
      "97:\tlearn: 0.1402178\ttotal: 1.69s\tremaining: 15.6s\n",
      "98:\tlearn: 0.1391292\ttotal: 1.71s\tremaining: 15.5s\n",
      "99:\tlearn: 0.1382574\ttotal: 1.72s\tremaining: 15.5s\n",
      "100:\tlearn: 0.1378388\ttotal: 1.74s\tremaining: 15.5s\n",
      "101:\tlearn: 0.1376017\ttotal: 1.75s\tremaining: 15.5s\n",
      "102:\tlearn: 0.1371951\ttotal: 1.77s\tremaining: 15.4s\n",
      "103:\tlearn: 0.1364833\ttotal: 1.79s\tremaining: 15.4s\n",
      "104:\tlearn: 0.1362946\ttotal: 1.8s\tremaining: 15.4s\n",
      "105:\tlearn: 0.1358363\ttotal: 1.82s\tremaining: 15.3s\n",
      "106:\tlearn: 0.1343883\ttotal: 1.83s\tremaining: 15.3s\n",
      "107:\tlearn: 0.1338607\ttotal: 1.85s\tremaining: 15.3s\n",
      "108:\tlearn: 0.1329157\ttotal: 1.87s\tremaining: 15.3s\n",
      "109:\tlearn: 0.1325447\ttotal: 1.88s\tremaining: 15.2s\n",
      "110:\tlearn: 0.1320873\ttotal: 1.9s\tremaining: 15.2s\n",
      "111:\tlearn: 0.1305777\ttotal: 1.92s\tremaining: 15.2s\n",
      "112:\tlearn: 0.1299621\ttotal: 1.93s\tremaining: 15.2s\n",
      "113:\tlearn: 0.1287444\ttotal: 1.95s\tremaining: 15.1s\n",
      "114:\tlearn: 0.1282184\ttotal: 1.96s\tremaining: 15.1s\n",
      "115:\tlearn: 0.1274439\ttotal: 1.98s\tremaining: 15.1s\n",
      "116:\tlearn: 0.1270428\ttotal: 2s\tremaining: 15.1s\n",
      "117:\tlearn: 0.1264483\ttotal: 2.01s\tremaining: 15s\n",
      "118:\tlearn: 0.1256200\ttotal: 2.03s\tremaining: 15s\n",
      "119:\tlearn: 0.1253250\ttotal: 2.04s\tremaining: 15s\n",
      "120:\tlearn: 0.1247241\ttotal: 2.06s\tremaining: 15s\n",
      "121:\tlearn: 0.1244223\ttotal: 2.08s\tremaining: 14.9s\n",
      "122:\tlearn: 0.1241833\ttotal: 2.09s\tremaining: 14.9s\n",
      "123:\tlearn: 0.1230639\ttotal: 2.11s\tremaining: 14.9s\n",
      "124:\tlearn: 0.1224309\ttotal: 2.13s\tremaining: 14.9s\n",
      "125:\tlearn: 0.1218922\ttotal: 2.14s\tremaining: 14.8s\n",
      "126:\tlearn: 0.1217748\ttotal: 2.16s\tremaining: 14.8s\n",
      "127:\tlearn: 0.1215858\ttotal: 2.17s\tremaining: 14.8s\n",
      "128:\tlearn: 0.1213617\ttotal: 2.19s\tremaining: 14.8s\n",
      "129:\tlearn: 0.1208088\ttotal: 2.21s\tremaining: 14.8s\n",
      "130:\tlearn: 0.1203327\ttotal: 2.22s\tremaining: 14.8s\n",
      "131:\tlearn: 0.1196216\ttotal: 2.24s\tremaining: 14.7s\n",
      "132:\tlearn: 0.1185828\ttotal: 2.26s\tremaining: 14.7s\n",
      "133:\tlearn: 0.1182940\ttotal: 2.28s\tremaining: 14.7s\n",
      "134:\tlearn: 0.1179655\ttotal: 2.29s\tremaining: 14.7s\n",
      "135:\tlearn: 0.1176645\ttotal: 2.31s\tremaining: 14.7s\n",
      "136:\tlearn: 0.1170469\ttotal: 2.33s\tremaining: 14.7s\n",
      "137:\tlearn: 0.1165594\ttotal: 2.34s\tremaining: 14.6s\n",
      "138:\tlearn: 0.1157299\ttotal: 2.36s\tremaining: 14.6s\n",
      "139:\tlearn: 0.1155424\ttotal: 2.38s\tremaining: 14.6s\n",
      "140:\tlearn: 0.1154567\ttotal: 2.4s\tremaining: 14.6s\n",
      "141:\tlearn: 0.1148510\ttotal: 2.41s\tremaining: 14.6s\n",
      "142:\tlearn: 0.1143327\ttotal: 2.43s\tremaining: 14.6s\n",
      "143:\tlearn: 0.1138618\ttotal: 2.45s\tremaining: 14.5s\n",
      "144:\tlearn: 0.1136801\ttotal: 2.46s\tremaining: 14.5s\n",
      "145:\tlearn: 0.1130135\ttotal: 2.48s\tremaining: 14.5s\n",
      "146:\tlearn: 0.1128659\ttotal: 2.5s\tremaining: 14.5s\n",
      "147:\tlearn: 0.1123353\ttotal: 2.51s\tremaining: 14.5s\n",
      "148:\tlearn: 0.1122089\ttotal: 2.53s\tremaining: 14.4s\n",
      "149:\tlearn: 0.1118937\ttotal: 2.55s\tremaining: 14.4s\n",
      "150:\tlearn: 0.1113604\ttotal: 2.56s\tremaining: 14.4s\n",
      "151:\tlearn: 0.1108623\ttotal: 2.58s\tremaining: 14.4s\n",
      "152:\tlearn: 0.1099517\ttotal: 2.6s\tremaining: 14.4s\n",
      "153:\tlearn: 0.1094749\ttotal: 2.61s\tremaining: 14.4s\n",
      "154:\tlearn: 0.1092727\ttotal: 2.63s\tremaining: 14.3s\n",
      "155:\tlearn: 0.1085929\ttotal: 2.65s\tremaining: 14.3s\n",
      "156:\tlearn: 0.1082995\ttotal: 2.67s\tremaining: 14.3s\n",
      "157:\tlearn: 0.1075457\ttotal: 2.68s\tremaining: 14.3s\n",
      "158:\tlearn: 0.1069751\ttotal: 2.7s\tremaining: 14.3s\n",
      "159:\tlearn: 0.1063170\ttotal: 2.72s\tremaining: 14.3s\n",
      "160:\tlearn: 0.1051445\ttotal: 2.74s\tremaining: 14.3s\n",
      "161:\tlearn: 0.1046302\ttotal: 2.76s\tremaining: 14.3s\n",
      "162:\tlearn: 0.1038511\ttotal: 2.77s\tremaining: 14.2s\n",
      "163:\tlearn: 0.1036924\ttotal: 2.79s\tremaining: 14.2s\n",
      "164:\tlearn: 0.1031293\ttotal: 2.81s\tremaining: 14.2s\n",
      "165:\tlearn: 0.1027084\ttotal: 2.82s\tremaining: 14.2s\n",
      "166:\tlearn: 0.1021672\ttotal: 2.83s\tremaining: 14.1s\n",
      "167:\tlearn: 0.1017570\ttotal: 2.85s\tremaining: 14.1s\n",
      "168:\tlearn: 0.1012703\ttotal: 2.87s\tremaining: 14.1s\n",
      "169:\tlearn: 0.1008349\ttotal: 2.89s\tremaining: 14.1s\n",
      "170:\tlearn: 0.1007391\ttotal: 2.9s\tremaining: 14.1s\n",
      "171:\tlearn: 0.1003656\ttotal: 2.92s\tremaining: 14.1s\n",
      "172:\tlearn: 0.0996921\ttotal: 2.94s\tremaining: 14s\n",
      "173:\tlearn: 0.0992405\ttotal: 2.96s\tremaining: 14s\n",
      "174:\tlearn: 0.0987030\ttotal: 2.97s\tremaining: 14s\n",
      "175:\tlearn: 0.0980604\ttotal: 2.99s\tremaining: 14s\n",
      "176:\tlearn: 0.0976908\ttotal: 3.01s\tremaining: 14s\n",
      "177:\tlearn: 0.0970538\ttotal: 3.02s\tremaining: 14s\n",
      "178:\tlearn: 0.0966119\ttotal: 3.04s\tremaining: 13.9s\n",
      "179:\tlearn: 0.0957860\ttotal: 3.06s\tremaining: 13.9s\n",
      "180:\tlearn: 0.0952928\ttotal: 3.08s\tremaining: 13.9s\n",
      "181:\tlearn: 0.0944770\ttotal: 3.09s\tremaining: 13.9s\n",
      "182:\tlearn: 0.0941493\ttotal: 3.11s\tremaining: 13.9s\n",
      "183:\tlearn: 0.0935886\ttotal: 3.13s\tremaining: 13.9s\n",
      "184:\tlearn: 0.0933781\ttotal: 3.14s\tremaining: 13.8s\n",
      "185:\tlearn: 0.0931823\ttotal: 3.16s\tremaining: 13.8s\n",
      "186:\tlearn: 0.0928921\ttotal: 3.18s\tremaining: 13.8s\n",
      "187:\tlearn: 0.0925060\ttotal: 3.19s\tremaining: 13.8s\n",
      "188:\tlearn: 0.0920306\ttotal: 3.21s\tremaining: 13.8s\n",
      "189:\tlearn: 0.0918773\ttotal: 3.22s\tremaining: 13.7s\n",
      "190:\tlearn: 0.0917809\ttotal: 3.24s\tremaining: 13.7s\n",
      "191:\tlearn: 0.0915059\ttotal: 3.26s\tremaining: 13.7s\n",
      "192:\tlearn: 0.0912001\ttotal: 3.27s\tremaining: 13.7s\n",
      "193:\tlearn: 0.0908111\ttotal: 3.29s\tremaining: 13.7s\n",
      "194:\tlearn: 0.0906426\ttotal: 3.31s\tremaining: 13.7s\n",
      "195:\tlearn: 0.0902832\ttotal: 3.33s\tremaining: 13.7s\n",
      "196:\tlearn: 0.0896801\ttotal: 3.35s\tremaining: 13.6s\n",
      "197:\tlearn: 0.0892758\ttotal: 3.36s\tremaining: 13.6s\n",
      "198:\tlearn: 0.0891798\ttotal: 3.38s\tremaining: 13.6s\n",
      "199:\tlearn: 0.0888958\ttotal: 3.4s\tremaining: 13.6s\n",
      "200:\tlearn: 0.0884775\ttotal: 3.41s\tremaining: 13.6s\n",
      "201:\tlearn: 0.0880441\ttotal: 3.43s\tremaining: 13.6s\n",
      "202:\tlearn: 0.0879358\ttotal: 3.45s\tremaining: 13.5s\n",
      "203:\tlearn: 0.0877954\ttotal: 3.46s\tremaining: 13.5s\n",
      "204:\tlearn: 0.0873557\ttotal: 3.48s\tremaining: 13.5s\n",
      "205:\tlearn: 0.0867635\ttotal: 3.49s\tremaining: 13.5s\n",
      "206:\tlearn: 0.0864058\ttotal: 3.51s\tremaining: 13.4s\n",
      "207:\tlearn: 0.0860479\ttotal: 3.53s\tremaining: 13.4s\n",
      "208:\tlearn: 0.0859195\ttotal: 3.54s\tremaining: 13.4s\n",
      "209:\tlearn: 0.0856454\ttotal: 3.56s\tremaining: 13.4s\n",
      "210:\tlearn: 0.0855036\ttotal: 3.58s\tremaining: 13.4s\n",
      "211:\tlearn: 0.0853853\ttotal: 3.59s\tremaining: 13.3s\n",
      "212:\tlearn: 0.0852228\ttotal: 3.61s\tremaining: 13.3s\n",
      "213:\tlearn: 0.0849913\ttotal: 3.62s\tremaining: 13.3s\n",
      "214:\tlearn: 0.0847611\ttotal: 3.64s\tremaining: 13.3s\n",
      "215:\tlearn: 0.0846009\ttotal: 3.65s\tremaining: 13.3s\n",
      "216:\tlearn: 0.0845036\ttotal: 3.67s\tremaining: 13.2s\n",
      "217:\tlearn: 0.0842245\ttotal: 3.68s\tremaining: 13.2s\n",
      "218:\tlearn: 0.0838608\ttotal: 3.7s\tremaining: 13.2s\n",
      "219:\tlearn: 0.0837444\ttotal: 3.72s\tremaining: 13.2s\n",
      "220:\tlearn: 0.0832417\ttotal: 3.73s\tremaining: 13.2s\n",
      "221:\tlearn: 0.0829651\ttotal: 3.75s\tremaining: 13.2s\n",
      "222:\tlearn: 0.0826964\ttotal: 3.77s\tremaining: 13.1s\n",
      "223:\tlearn: 0.0822902\ttotal: 3.79s\tremaining: 13.1s\n",
      "224:\tlearn: 0.0821359\ttotal: 3.8s\tremaining: 13.1s\n",
      "225:\tlearn: 0.0817140\ttotal: 3.82s\tremaining: 13.1s\n",
      "226:\tlearn: 0.0813468\ttotal: 3.83s\tremaining: 13.1s\n",
      "227:\tlearn: 0.0810095\ttotal: 3.85s\tremaining: 13s\n",
      "228:\tlearn: 0.0807979\ttotal: 3.87s\tremaining: 13s\n",
      "229:\tlearn: 0.0806075\ttotal: 3.88s\tremaining: 13s\n",
      "230:\tlearn: 0.0803853\ttotal: 3.9s\tremaining: 13s\n",
      "231:\tlearn: 0.0801917\ttotal: 3.91s\tremaining: 13s\n",
      "232:\tlearn: 0.0798032\ttotal: 3.93s\tremaining: 12.9s\n",
      "233:\tlearn: 0.0793849\ttotal: 3.95s\tremaining: 12.9s\n",
      "234:\tlearn: 0.0790072\ttotal: 3.96s\tremaining: 12.9s\n",
      "235:\tlearn: 0.0789167\ttotal: 3.98s\tremaining: 12.9s\n",
      "236:\tlearn: 0.0787404\ttotal: 4s\tremaining: 12.9s\n",
      "237:\tlearn: 0.0786076\ttotal: 4.02s\tremaining: 12.9s\n",
      "238:\tlearn: 0.0784909\ttotal: 4.03s\tremaining: 12.8s\n",
      "239:\tlearn: 0.0784184\ttotal: 4.05s\tremaining: 12.8s\n",
      "240:\tlearn: 0.0781669\ttotal: 4.06s\tremaining: 12.8s\n",
      "241:\tlearn: 0.0780856\ttotal: 4.08s\tremaining: 12.8s\n",
      "242:\tlearn: 0.0779996\ttotal: 4.09s\tremaining: 12.7s\n",
      "243:\tlearn: 0.0778107\ttotal: 4.11s\tremaining: 12.7s\n",
      "244:\tlearn: 0.0775585\ttotal: 4.12s\tremaining: 12.7s\n",
      "245:\tlearn: 0.0774369\ttotal: 4.14s\tremaining: 12.7s\n",
      "246:\tlearn: 0.0773448\ttotal: 4.16s\tremaining: 12.7s\n",
      "247:\tlearn: 0.0771305\ttotal: 4.17s\tremaining: 12.6s\n",
      "248:\tlearn: 0.0770078\ttotal: 4.19s\tremaining: 12.6s\n",
      "249:\tlearn: 0.0767332\ttotal: 4.21s\tremaining: 12.6s\n",
      "250:\tlearn: 0.0762981\ttotal: 4.22s\tremaining: 12.6s\n",
      "251:\tlearn: 0.0759842\ttotal: 4.24s\tremaining: 12.6s\n",
      "252:\tlearn: 0.0756606\ttotal: 4.25s\tremaining: 12.6s\n",
      "253:\tlearn: 0.0754137\ttotal: 4.27s\tremaining: 12.5s\n",
      "254:\tlearn: 0.0753460\ttotal: 4.28s\tremaining: 12.5s\n",
      "255:\tlearn: 0.0752613\ttotal: 4.3s\tremaining: 12.5s\n",
      "256:\tlearn: 0.0751488\ttotal: 4.32s\tremaining: 12.5s\n",
      "257:\tlearn: 0.0750452\ttotal: 4.33s\tremaining: 12.5s\n",
      "258:\tlearn: 0.0749498\ttotal: 4.35s\tremaining: 12.4s\n",
      "259:\tlearn: 0.0748492\ttotal: 4.37s\tremaining: 12.4s\n",
      "260:\tlearn: 0.0745942\ttotal: 4.38s\tremaining: 12.4s\n",
      "261:\tlearn: 0.0745142\ttotal: 4.4s\tremaining: 12.4s\n",
      "262:\tlearn: 0.0743619\ttotal: 4.41s\tremaining: 12.4s\n",
      "263:\tlearn: 0.0741405\ttotal: 4.43s\tremaining: 12.4s\n",
      "264:\tlearn: 0.0739740\ttotal: 4.45s\tremaining: 12.3s\n",
      "265:\tlearn: 0.0739387\ttotal: 4.46s\tremaining: 12.3s\n",
      "266:\tlearn: 0.0738415\ttotal: 4.48s\tremaining: 12.3s\n",
      "267:\tlearn: 0.0737972\ttotal: 4.49s\tremaining: 12.3s\n",
      "268:\tlearn: 0.0736321\ttotal: 4.5s\tremaining: 12.2s\n",
      "269:\tlearn: 0.0735362\ttotal: 4.52s\tremaining: 12.2s\n",
      "270:\tlearn: 0.0733542\ttotal: 4.53s\tremaining: 12.2s\n",
      "271:\tlearn: 0.0730150\ttotal: 4.55s\tremaining: 12.2s\n",
      "272:\tlearn: 0.0727947\ttotal: 4.57s\tremaining: 12.2s\n",
      "273:\tlearn: 0.0725762\ttotal: 4.58s\tremaining: 12.1s\n",
      "274:\tlearn: 0.0724827\ttotal: 4.6s\tremaining: 12.1s\n",
      "275:\tlearn: 0.0722965\ttotal: 4.61s\tremaining: 12.1s\n",
      "276:\tlearn: 0.0722445\ttotal: 4.63s\tremaining: 12.1s\n",
      "277:\tlearn: 0.0721609\ttotal: 4.64s\tremaining: 12.1s\n",
      "278:\tlearn: 0.0720348\ttotal: 4.66s\tremaining: 12s\n",
      "279:\tlearn: 0.0717206\ttotal: 4.68s\tremaining: 12s\n",
      "280:\tlearn: 0.0715256\ttotal: 4.69s\tremaining: 12s\n",
      "281:\tlearn: 0.0714908\ttotal: 4.71s\tremaining: 12s\n",
      "282:\tlearn: 0.0714005\ttotal: 4.72s\tremaining: 12s\n",
      "283:\tlearn: 0.0712583\ttotal: 4.74s\tremaining: 11.9s\n",
      "284:\tlearn: 0.0710739\ttotal: 4.75s\tremaining: 11.9s\n",
      "285:\tlearn: 0.0710172\ttotal: 4.77s\tremaining: 11.9s\n",
      "286:\tlearn: 0.0709301\ttotal: 4.79s\tremaining: 11.9s\n",
      "287:\tlearn: 0.0706467\ttotal: 4.8s\tremaining: 11.9s\n",
      "288:\tlearn: 0.0706031\ttotal: 4.82s\tremaining: 11.9s\n",
      "289:\tlearn: 0.0704963\ttotal: 4.84s\tremaining: 11.8s\n",
      "290:\tlearn: 0.0704383\ttotal: 4.85s\tremaining: 11.8s\n",
      "291:\tlearn: 0.0702422\ttotal: 4.87s\tremaining: 11.8s\n",
      "292:\tlearn: 0.0701101\ttotal: 4.88s\tremaining: 11.8s\n",
      "293:\tlearn: 0.0699798\ttotal: 4.9s\tremaining: 11.8s\n",
      "294:\tlearn: 0.0698992\ttotal: 4.92s\tremaining: 11.7s\n",
      "295:\tlearn: 0.0698160\ttotal: 4.93s\tremaining: 11.7s\n",
      "296:\tlearn: 0.0696276\ttotal: 4.95s\tremaining: 11.7s\n",
      "297:\tlearn: 0.0695429\ttotal: 4.96s\tremaining: 11.7s\n",
      "298:\tlearn: 0.0694518\ttotal: 4.98s\tremaining: 11.7s\n",
      "299:\tlearn: 0.0693649\ttotal: 5s\tremaining: 11.7s\n",
      "300:\tlearn: 0.0693146\ttotal: 5.01s\tremaining: 11.6s\n",
      "301:\tlearn: 0.0692837\ttotal: 5.03s\tremaining: 11.6s\n",
      "302:\tlearn: 0.0691692\ttotal: 5.04s\tremaining: 11.6s\n",
      "303:\tlearn: 0.0689121\ttotal: 5.06s\tremaining: 11.6s\n",
      "304:\tlearn: 0.0688900\ttotal: 5.08s\tremaining: 11.6s\n",
      "305:\tlearn: 0.0687072\ttotal: 5.09s\tremaining: 11.5s\n",
      "306:\tlearn: 0.0685963\ttotal: 5.11s\tremaining: 11.5s\n",
      "307:\tlearn: 0.0685257\ttotal: 5.12s\tremaining: 11.5s\n",
      "308:\tlearn: 0.0684610\ttotal: 5.14s\tremaining: 11.5s\n",
      "309:\tlearn: 0.0683166\ttotal: 5.16s\tremaining: 11.5s\n",
      "310:\tlearn: 0.0682850\ttotal: 5.17s\tremaining: 11.5s\n",
      "311:\tlearn: 0.0679877\ttotal: 5.19s\tremaining: 11.4s\n",
      "312:\tlearn: 0.0678370\ttotal: 5.21s\tremaining: 11.4s\n",
      "313:\tlearn: 0.0675899\ttotal: 5.22s\tremaining: 11.4s\n",
      "314:\tlearn: 0.0673974\ttotal: 5.24s\tremaining: 11.4s\n",
      "315:\tlearn: 0.0673776\ttotal: 5.26s\tremaining: 11.4s\n",
      "316:\tlearn: 0.0670750\ttotal: 5.27s\tremaining: 11.4s\n",
      "317:\tlearn: 0.0669878\ttotal: 5.29s\tremaining: 11.3s\n",
      "318:\tlearn: 0.0668501\ttotal: 5.3s\tremaining: 11.3s\n",
      "319:\tlearn: 0.0666698\ttotal: 5.32s\tremaining: 11.3s\n",
      "320:\tlearn: 0.0666011\ttotal: 5.34s\tremaining: 11.3s\n",
      "321:\tlearn: 0.0665778\ttotal: 5.35s\tremaining: 11.3s\n",
      "322:\tlearn: 0.0663301\ttotal: 5.37s\tremaining: 11.3s\n",
      "323:\tlearn: 0.0662146\ttotal: 5.39s\tremaining: 11.2s\n",
      "324:\tlearn: 0.0661216\ttotal: 5.41s\tremaining: 11.2s\n",
      "325:\tlearn: 0.0660519\ttotal: 5.42s\tremaining: 11.2s\n",
      "326:\tlearn: 0.0659881\ttotal: 5.44s\tremaining: 11.2s\n",
      "327:\tlearn: 0.0658636\ttotal: 5.45s\tremaining: 11.2s\n",
      "328:\tlearn: 0.0657007\ttotal: 5.47s\tremaining: 11.2s\n",
      "329:\tlearn: 0.0656795\ttotal: 5.49s\tremaining: 11.1s\n",
      "330:\tlearn: 0.0656172\ttotal: 5.5s\tremaining: 11.1s\n",
      "331:\tlearn: 0.0655726\ttotal: 5.52s\tremaining: 11.1s\n",
      "332:\tlearn: 0.0653824\ttotal: 5.53s\tremaining: 11.1s\n",
      "333:\tlearn: 0.0653650\ttotal: 5.55s\tremaining: 11.1s\n",
      "334:\tlearn: 0.0653262\ttotal: 5.56s\tremaining: 11s\n",
      "335:\tlearn: 0.0653155\ttotal: 5.58s\tremaining: 11s\n",
      "336:\tlearn: 0.0652899\ttotal: 5.59s\tremaining: 11s\n",
      "337:\tlearn: 0.0651734\ttotal: 5.61s\tremaining: 11s\n",
      "338:\tlearn: 0.0649865\ttotal: 5.63s\tremaining: 11s\n",
      "339:\tlearn: 0.0648231\ttotal: 5.65s\tremaining: 11s\n",
      "340:\tlearn: 0.0645610\ttotal: 5.67s\tremaining: 11s\n",
      "341:\tlearn: 0.0644788\ttotal: 5.68s\tremaining: 10.9s\n",
      "342:\tlearn: 0.0644145\ttotal: 5.7s\tremaining: 10.9s\n",
      "343:\tlearn: 0.0642910\ttotal: 5.71s\tremaining: 10.9s\n",
      "344:\tlearn: 0.0642299\ttotal: 5.73s\tremaining: 10.9s\n",
      "345:\tlearn: 0.0640113\ttotal: 5.75s\tremaining: 10.9s\n",
      "346:\tlearn: 0.0637844\ttotal: 5.77s\tremaining: 10.9s\n",
      "347:\tlearn: 0.0635985\ttotal: 5.78s\tremaining: 10.8s\n",
      "348:\tlearn: 0.0634995\ttotal: 5.8s\tremaining: 10.8s\n",
      "349:\tlearn: 0.0634105\ttotal: 5.82s\tremaining: 10.8s\n",
      "350:\tlearn: 0.0633629\ttotal: 5.83s\tremaining: 10.8s\n",
      "351:\tlearn: 0.0632867\ttotal: 5.85s\tremaining: 10.8s\n",
      "352:\tlearn: 0.0632459\ttotal: 5.87s\tremaining: 10.7s\n",
      "353:\tlearn: 0.0631608\ttotal: 5.88s\tremaining: 10.7s\n",
      "354:\tlearn: 0.0631260\ttotal: 5.9s\tremaining: 10.7s\n",
      "355:\tlearn: 0.0631165\ttotal: 5.91s\tremaining: 10.7s\n",
      "356:\tlearn: 0.0630167\ttotal: 5.93s\tremaining: 10.7s\n",
      "357:\tlearn: 0.0628332\ttotal: 5.94s\tremaining: 10.7s\n",
      "358:\tlearn: 0.0626970\ttotal: 5.96s\tremaining: 10.6s\n",
      "359:\tlearn: 0.0625083\ttotal: 5.97s\tremaining: 10.6s\n",
      "360:\tlearn: 0.0624472\ttotal: 5.99s\tremaining: 10.6s\n",
      "361:\tlearn: 0.0623125\ttotal: 6.01s\tremaining: 10.6s\n",
      "362:\tlearn: 0.0622269\ttotal: 6.03s\tremaining: 10.6s\n",
      "363:\tlearn: 0.0621020\ttotal: 6.05s\tremaining: 10.6s\n",
      "364:\tlearn: 0.0619756\ttotal: 6.06s\tremaining: 10.5s\n",
      "365:\tlearn: 0.0618810\ttotal: 6.08s\tremaining: 10.5s\n",
      "366:\tlearn: 0.0618353\ttotal: 6.09s\tremaining: 10.5s\n",
      "367:\tlearn: 0.0616245\ttotal: 6.11s\tremaining: 10.5s\n",
      "368:\tlearn: 0.0614863\ttotal: 6.12s\tremaining: 10.5s\n",
      "369:\tlearn: 0.0614106\ttotal: 6.14s\tremaining: 10.5s\n",
      "370:\tlearn: 0.0612645\ttotal: 6.15s\tremaining: 10.4s\n",
      "371:\tlearn: 0.0611199\ttotal: 6.17s\tremaining: 10.4s\n",
      "372:\tlearn: 0.0610343\ttotal: 6.18s\tremaining: 10.4s\n",
      "373:\tlearn: 0.0609717\ttotal: 6.2s\tremaining: 10.4s\n",
      "374:\tlearn: 0.0609362\ttotal: 6.21s\tremaining: 10.4s\n",
      "375:\tlearn: 0.0609001\ttotal: 6.23s\tremaining: 10.3s\n",
      "376:\tlearn: 0.0608528\ttotal: 6.24s\tremaining: 10.3s\n",
      "377:\tlearn: 0.0607620\ttotal: 6.26s\tremaining: 10.3s\n",
      "378:\tlearn: 0.0606986\ttotal: 6.28s\tremaining: 10.3s\n",
      "379:\tlearn: 0.0605763\ttotal: 6.29s\tremaining: 10.3s\n",
      "380:\tlearn: 0.0605189\ttotal: 6.31s\tremaining: 10.3s\n",
      "381:\tlearn: 0.0604704\ttotal: 6.33s\tremaining: 10.2s\n",
      "382:\tlearn: 0.0604423\ttotal: 6.35s\tremaining: 10.2s\n",
      "383:\tlearn: 0.0603145\ttotal: 6.37s\tremaining: 10.2s\n",
      "384:\tlearn: 0.0601791\ttotal: 6.38s\tremaining: 10.2s\n",
      "385:\tlearn: 0.0601074\ttotal: 6.4s\tremaining: 10.2s\n",
      "386:\tlearn: 0.0600868\ttotal: 6.41s\tremaining: 10.2s\n",
      "387:\tlearn: 0.0599021\ttotal: 6.43s\tremaining: 10.1s\n",
      "388:\tlearn: 0.0597657\ttotal: 6.45s\tremaining: 10.1s\n",
      "389:\tlearn: 0.0596148\ttotal: 6.46s\tremaining: 10.1s\n",
      "390:\tlearn: 0.0595245\ttotal: 6.48s\tremaining: 10.1s\n",
      "391:\tlearn: 0.0595012\ttotal: 6.5s\tremaining: 10.1s\n",
      "392:\tlearn: 0.0594278\ttotal: 6.51s\tremaining: 10.1s\n",
      "393:\tlearn: 0.0592432\ttotal: 6.53s\tremaining: 10s\n",
      "394:\tlearn: 0.0591869\ttotal: 6.55s\tremaining: 10s\n",
      "395:\tlearn: 0.0591625\ttotal: 6.57s\tremaining: 10s\n",
      "396:\tlearn: 0.0591571\ttotal: 6.58s\tremaining: 9.99s\n",
      "397:\tlearn: 0.0591439\ttotal: 6.59s\tremaining: 9.98s\n",
      "398:\tlearn: 0.0591099\ttotal: 6.61s\tremaining: 9.96s\n",
      "399:\tlearn: 0.0589955\ttotal: 6.63s\tremaining: 9.94s\n",
      "400:\tlearn: 0.0589585\ttotal: 6.64s\tremaining: 9.92s\n",
      "401:\tlearn: 0.0587934\ttotal: 6.66s\tremaining: 9.9s\n",
      "402:\tlearn: 0.0586183\ttotal: 6.68s\tremaining: 9.89s\n",
      "403:\tlearn: 0.0586030\ttotal: 6.69s\tremaining: 9.87s\n",
      "404:\tlearn: 0.0585691\ttotal: 6.71s\tremaining: 9.85s\n",
      "405:\tlearn: 0.0584290\ttotal: 6.72s\tremaining: 9.83s\n",
      "406:\tlearn: 0.0582789\ttotal: 6.74s\tremaining: 9.82s\n",
      "407:\tlearn: 0.0581934\ttotal: 6.76s\tremaining: 9.8s\n",
      "408:\tlearn: 0.0580755\ttotal: 6.77s\tremaining: 9.79s\n",
      "409:\tlearn: 0.0580376\ttotal: 6.79s\tremaining: 9.77s\n",
      "410:\tlearn: 0.0580272\ttotal: 6.81s\tremaining: 9.76s\n",
      "411:\tlearn: 0.0580092\ttotal: 6.82s\tremaining: 9.74s\n",
      "412:\tlearn: 0.0579594\ttotal: 6.84s\tremaining: 9.72s\n",
      "413:\tlearn: 0.0579012\ttotal: 6.86s\tremaining: 9.71s\n",
      "414:\tlearn: 0.0578046\ttotal: 6.87s\tremaining: 9.69s\n",
      "415:\tlearn: 0.0577787\ttotal: 6.89s\tremaining: 9.67s\n",
      "416:\tlearn: 0.0577428\ttotal: 6.91s\tremaining: 9.65s\n",
      "417:\tlearn: 0.0577151\ttotal: 6.92s\tremaining: 9.63s\n",
      "418:\tlearn: 0.0576782\ttotal: 6.94s\tremaining: 9.62s\n",
      "419:\tlearn: 0.0576711\ttotal: 6.95s\tremaining: 9.6s\n",
      "420:\tlearn: 0.0576409\ttotal: 6.97s\tremaining: 9.58s\n",
      "421:\tlearn: 0.0576157\ttotal: 6.98s\tremaining: 9.56s\n",
      "422:\tlearn: 0.0575363\ttotal: 7s\tremaining: 9.55s\n",
      "423:\tlearn: 0.0574440\ttotal: 7.01s\tremaining: 9.53s\n",
      "424:\tlearn: 0.0573315\ttotal: 7.03s\tremaining: 9.52s\n",
      "425:\tlearn: 0.0573213\ttotal: 7.05s\tremaining: 9.5s\n",
      "426:\tlearn: 0.0572933\ttotal: 7.07s\tremaining: 9.48s\n",
      "427:\tlearn: 0.0571507\ttotal: 7.08s\tremaining: 9.47s\n",
      "428:\tlearn: 0.0570008\ttotal: 7.1s\tremaining: 9.45s\n",
      "429:\tlearn: 0.0568971\ttotal: 7.12s\tremaining: 9.44s\n",
      "430:\tlearn: 0.0567634\ttotal: 7.14s\tremaining: 9.42s\n",
      "431:\tlearn: 0.0567247\ttotal: 7.15s\tremaining: 9.4s\n",
      "432:\tlearn: 0.0565891\ttotal: 7.17s\tremaining: 9.38s\n",
      "433:\tlearn: 0.0565172\ttotal: 7.18s\tremaining: 9.37s\n",
      "434:\tlearn: 0.0564874\ttotal: 7.2s\tremaining: 9.35s\n",
      "435:\tlearn: 0.0564197\ttotal: 7.21s\tremaining: 9.33s\n",
      "436:\tlearn: 0.0563567\ttotal: 7.23s\tremaining: 9.31s\n",
      "437:\tlearn: 0.0562346\ttotal: 7.24s\tremaining: 9.29s\n",
      "438:\tlearn: 0.0561997\ttotal: 7.26s\tremaining: 9.28s\n",
      "439:\tlearn: 0.0561681\ttotal: 7.28s\tremaining: 9.26s\n",
      "440:\tlearn: 0.0561331\ttotal: 7.29s\tremaining: 9.24s\n",
      "441:\tlearn: 0.0560625\ttotal: 7.31s\tremaining: 9.23s\n",
      "442:\tlearn: 0.0560398\ttotal: 7.32s\tremaining: 9.21s\n",
      "443:\tlearn: 0.0560093\ttotal: 7.34s\tremaining: 9.19s\n",
      "444:\tlearn: 0.0559337\ttotal: 7.36s\tremaining: 9.18s\n",
      "445:\tlearn: 0.0559141\ttotal: 7.37s\tremaining: 9.16s\n",
      "446:\tlearn: 0.0558901\ttotal: 7.39s\tremaining: 9.14s\n",
      "447:\tlearn: 0.0558779\ttotal: 7.4s\tremaining: 9.12s\n",
      "448:\tlearn: 0.0558116\ttotal: 7.42s\tremaining: 9.1s\n",
      "449:\tlearn: 0.0557591\ttotal: 7.43s\tremaining: 9.09s\n",
      "450:\tlearn: 0.0557284\ttotal: 7.45s\tremaining: 9.07s\n",
      "451:\tlearn: 0.0557070\ttotal: 7.46s\tremaining: 9.05s\n",
      "452:\tlearn: 0.0556859\ttotal: 7.48s\tremaining: 9.03s\n",
      "453:\tlearn: 0.0556164\ttotal: 7.5s\tremaining: 9.02s\n",
      "454:\tlearn: 0.0555284\ttotal: 7.51s\tremaining: 9s\n",
      "455:\tlearn: 0.0554974\ttotal: 7.53s\tremaining: 8.98s\n",
      "456:\tlearn: 0.0554549\ttotal: 7.54s\tremaining: 8.96s\n",
      "457:\tlearn: 0.0554098\ttotal: 7.56s\tremaining: 8.95s\n",
      "458:\tlearn: 0.0552819\ttotal: 7.58s\tremaining: 8.93s\n",
      "459:\tlearn: 0.0552238\ttotal: 7.59s\tremaining: 8.91s\n",
      "460:\tlearn: 0.0551805\ttotal: 7.61s\tremaining: 8.9s\n",
      "461:\tlearn: 0.0551502\ttotal: 7.63s\tremaining: 8.88s\n",
      "462:\tlearn: 0.0549454\ttotal: 7.64s\tremaining: 8.86s\n",
      "463:\tlearn: 0.0547937\ttotal: 7.66s\tremaining: 8.85s\n",
      "464:\tlearn: 0.0546459\ttotal: 7.67s\tremaining: 8.83s\n",
      "465:\tlearn: 0.0545864\ttotal: 7.69s\tremaining: 8.81s\n",
      "466:\tlearn: 0.0544691\ttotal: 7.71s\tremaining: 8.8s\n",
      "467:\tlearn: 0.0543998\ttotal: 7.72s\tremaining: 8.78s\n",
      "468:\tlearn: 0.0543475\ttotal: 7.74s\tremaining: 8.77s\n",
      "469:\tlearn: 0.0542921\ttotal: 7.76s\tremaining: 8.75s\n",
      "470:\tlearn: 0.0541845\ttotal: 7.77s\tremaining: 8.73s\n",
      "471:\tlearn: 0.0541184\ttotal: 7.79s\tremaining: 8.71s\n",
      "472:\tlearn: 0.0540363\ttotal: 7.81s\tremaining: 8.7s\n",
      "473:\tlearn: 0.0539921\ttotal: 7.82s\tremaining: 8.68s\n",
      "474:\tlearn: 0.0539823\ttotal: 7.84s\tremaining: 8.66s\n",
      "475:\tlearn: 0.0539412\ttotal: 7.85s\tremaining: 8.64s\n",
      "476:\tlearn: 0.0538933\ttotal: 7.87s\tremaining: 8.63s\n",
      "477:\tlearn: 0.0538475\ttotal: 7.88s\tremaining: 8.61s\n",
      "478:\tlearn: 0.0538192\ttotal: 7.9s\tremaining: 8.59s\n",
      "479:\tlearn: 0.0538039\ttotal: 7.92s\tremaining: 8.58s\n",
      "480:\tlearn: 0.0537334\ttotal: 7.93s\tremaining: 8.56s\n",
      "481:\tlearn: 0.0536958\ttotal: 7.95s\tremaining: 8.54s\n",
      "482:\tlearn: 0.0536674\ttotal: 7.97s\tremaining: 8.53s\n",
      "483:\tlearn: 0.0536493\ttotal: 7.98s\tremaining: 8.51s\n",
      "484:\tlearn: 0.0535512\ttotal: 8s\tremaining: 8.49s\n",
      "485:\tlearn: 0.0535253\ttotal: 8.01s\tremaining: 8.47s\n",
      "486:\tlearn: 0.0534814\ttotal: 8.03s\tremaining: 8.45s\n",
      "487:\tlearn: 0.0534537\ttotal: 8.04s\tremaining: 8.43s\n",
      "488:\tlearn: 0.0534068\ttotal: 8.05s\tremaining: 8.42s\n",
      "489:\tlearn: 0.0533890\ttotal: 8.07s\tremaining: 8.4s\n",
      "490:\tlearn: 0.0533080\ttotal: 8.09s\tremaining: 8.38s\n",
      "491:\tlearn: 0.0532151\ttotal: 8.1s\tremaining: 8.37s\n",
      "492:\tlearn: 0.0531299\ttotal: 8.12s\tremaining: 8.35s\n",
      "493:\tlearn: 0.0530420\ttotal: 8.14s\tremaining: 8.34s\n",
      "494:\tlearn: 0.0529681\ttotal: 8.17s\tremaining: 8.33s\n",
      "495:\tlearn: 0.0529413\ttotal: 8.18s\tremaining: 8.31s\n",
      "496:\tlearn: 0.0528464\ttotal: 8.2s\tremaining: 8.3s\n",
      "497:\tlearn: 0.0527823\ttotal: 8.22s\tremaining: 8.28s\n",
      "498:\tlearn: 0.0526879\ttotal: 8.23s\tremaining: 8.27s\n",
      "499:\tlearn: 0.0525892\ttotal: 8.25s\tremaining: 8.25s\n",
      "500:\tlearn: 0.0525248\ttotal: 8.26s\tremaining: 8.23s\n",
      "501:\tlearn: 0.0525131\ttotal: 8.28s\tremaining: 8.21s\n",
      "502:\tlearn: 0.0524874\ttotal: 8.29s\tremaining: 8.2s\n",
      "503:\tlearn: 0.0524190\ttotal: 8.33s\tremaining: 8.2s\n",
      "504:\tlearn: 0.0524043\ttotal: 8.36s\tremaining: 8.19s\n",
      "505:\tlearn: 0.0523239\ttotal: 8.39s\tremaining: 8.19s\n",
      "506:\tlearn: 0.0522871\ttotal: 8.41s\tremaining: 8.18s\n",
      "507:\tlearn: 0.0522539\ttotal: 8.43s\tremaining: 8.16s\n",
      "508:\tlearn: 0.0521515\ttotal: 8.44s\tremaining: 8.14s\n",
      "509:\tlearn: 0.0521330\ttotal: 8.46s\tremaining: 8.12s\n",
      "510:\tlearn: 0.0520899\ttotal: 8.47s\tremaining: 8.11s\n",
      "511:\tlearn: 0.0520578\ttotal: 8.49s\tremaining: 8.09s\n",
      "512:\tlearn: 0.0520274\ttotal: 8.5s\tremaining: 8.07s\n",
      "513:\tlearn: 0.0519562\ttotal: 8.52s\tremaining: 8.06s\n",
      "514:\tlearn: 0.0518985\ttotal: 8.54s\tremaining: 8.04s\n",
      "515:\tlearn: 0.0518324\ttotal: 8.56s\tremaining: 8.03s\n",
      "516:\tlearn: 0.0518107\ttotal: 8.57s\tremaining: 8.01s\n",
      "517:\tlearn: 0.0517548\ttotal: 8.59s\tremaining: 7.99s\n",
      "518:\tlearn: 0.0516887\ttotal: 8.61s\tremaining: 7.98s\n",
      "519:\tlearn: 0.0516493\ttotal: 8.62s\tremaining: 7.96s\n",
      "520:\tlearn: 0.0516429\ttotal: 8.64s\tremaining: 7.94s\n",
      "521:\tlearn: 0.0515757\ttotal: 8.65s\tremaining: 7.92s\n",
      "522:\tlearn: 0.0515505\ttotal: 8.67s\tremaining: 7.91s\n",
      "523:\tlearn: 0.0515336\ttotal: 8.68s\tremaining: 7.89s\n",
      "524:\tlearn: 0.0515040\ttotal: 8.7s\tremaining: 7.87s\n",
      "525:\tlearn: 0.0514402\ttotal: 8.72s\tremaining: 7.86s\n",
      "526:\tlearn: 0.0514084\ttotal: 8.73s\tremaining: 7.84s\n",
      "527:\tlearn: 0.0513467\ttotal: 8.75s\tremaining: 7.82s\n",
      "528:\tlearn: 0.0512415\ttotal: 8.77s\tremaining: 7.81s\n",
      "529:\tlearn: 0.0511906\ttotal: 8.79s\tremaining: 7.79s\n",
      "530:\tlearn: 0.0511673\ttotal: 8.8s\tremaining: 7.78s\n",
      "531:\tlearn: 0.0511481\ttotal: 8.82s\tremaining: 7.76s\n",
      "532:\tlearn: 0.0510597\ttotal: 8.84s\tremaining: 7.75s\n",
      "533:\tlearn: 0.0509921\ttotal: 8.87s\tremaining: 7.74s\n",
      "534:\tlearn: 0.0508750\ttotal: 8.89s\tremaining: 7.73s\n",
      "535:\tlearn: 0.0507821\ttotal: 8.91s\tremaining: 7.72s\n",
      "536:\tlearn: 0.0507150\ttotal: 8.94s\tremaining: 7.71s\n",
      "537:\tlearn: 0.0506882\ttotal: 8.96s\tremaining: 7.7s\n",
      "538:\tlearn: 0.0506244\ttotal: 8.98s\tremaining: 7.68s\n",
      "539:\tlearn: 0.0505971\ttotal: 9.01s\tremaining: 7.67s\n",
      "540:\tlearn: 0.0505149\ttotal: 9.03s\tremaining: 7.66s\n",
      "541:\tlearn: 0.0504401\ttotal: 9.05s\tremaining: 7.65s\n",
      "542:\tlearn: 0.0504192\ttotal: 9.07s\tremaining: 7.63s\n",
      "543:\tlearn: 0.0504039\ttotal: 9.09s\tremaining: 7.62s\n",
      "544:\tlearn: 0.0503833\ttotal: 9.11s\tremaining: 7.61s\n",
      "545:\tlearn: 0.0503657\ttotal: 9.13s\tremaining: 7.59s\n",
      "546:\tlearn: 0.0503531\ttotal: 9.17s\tremaining: 7.59s\n",
      "547:\tlearn: 0.0503022\ttotal: 9.19s\tremaining: 7.58s\n",
      "548:\tlearn: 0.0502078\ttotal: 9.21s\tremaining: 7.57s\n",
      "549:\tlearn: 0.0501908\ttotal: 9.23s\tremaining: 7.56s\n",
      "550:\tlearn: 0.0501699\ttotal: 9.26s\tremaining: 7.54s\n",
      "551:\tlearn: 0.0501580\ttotal: 9.28s\tremaining: 7.53s\n",
      "552:\tlearn: 0.0501407\ttotal: 9.3s\tremaining: 7.51s\n",
      "553:\tlearn: 0.0500821\ttotal: 9.32s\tremaining: 7.5s\n",
      "554:\tlearn: 0.0500414\ttotal: 9.35s\tremaining: 7.49s\n",
      "555:\tlearn: 0.0500146\ttotal: 9.37s\tremaining: 7.48s\n",
      "556:\tlearn: 0.0500001\ttotal: 9.39s\tremaining: 7.47s\n",
      "557:\tlearn: 0.0499990\ttotal: 9.41s\tremaining: 7.45s\n",
      "558:\tlearn: 0.0499330\ttotal: 9.45s\tremaining: 7.45s\n",
      "559:\tlearn: 0.0499330\ttotal: 9.47s\tremaining: 7.44s\n",
      "560:\tlearn: 0.0498583\ttotal: 9.49s\tremaining: 7.43s\n",
      "561:\tlearn: 0.0498568\ttotal: 9.51s\tremaining: 7.41s\n",
      "562:\tlearn: 0.0498375\ttotal: 9.53s\tremaining: 7.4s\n",
      "563:\tlearn: 0.0497970\ttotal: 9.55s\tremaining: 7.38s\n",
      "564:\tlearn: 0.0497817\ttotal: 9.58s\tremaining: 7.38s\n",
      "565:\tlearn: 0.0497395\ttotal: 9.6s\tremaining: 7.36s\n",
      "566:\tlearn: 0.0496667\ttotal: 9.62s\tremaining: 7.35s\n",
      "567:\tlearn: 0.0496551\ttotal: 9.65s\tremaining: 7.34s\n",
      "568:\tlearn: 0.0495861\ttotal: 9.69s\tremaining: 7.34s\n",
      "569:\tlearn: 0.0495655\ttotal: 9.71s\tremaining: 7.32s\n",
      "570:\tlearn: 0.0495533\ttotal: 9.73s\tremaining: 7.31s\n",
      "571:\tlearn: 0.0495082\ttotal: 9.75s\tremaining: 7.29s\n",
      "572:\tlearn: 0.0494944\ttotal: 9.77s\tremaining: 7.28s\n",
      "573:\tlearn: 0.0494593\ttotal: 9.79s\tremaining: 7.27s\n",
      "574:\tlearn: 0.0494259\ttotal: 9.81s\tremaining: 7.25s\n",
      "575:\tlearn: 0.0494003\ttotal: 9.84s\tremaining: 7.24s\n",
      "576:\tlearn: 0.0493992\ttotal: 9.85s\tremaining: 7.22s\n",
      "577:\tlearn: 0.0493662\ttotal: 9.88s\tremaining: 7.21s\n",
      "578:\tlearn: 0.0493219\ttotal: 9.9s\tremaining: 7.2s\n",
      "579:\tlearn: 0.0492516\ttotal: 9.93s\tremaining: 7.19s\n",
      "580:\tlearn: 0.0492077\ttotal: 9.95s\tremaining: 7.18s\n",
      "581:\tlearn: 0.0491653\ttotal: 9.97s\tremaining: 7.16s\n",
      "582:\tlearn: 0.0491511\ttotal: 10s\tremaining: 7.15s\n",
      "583:\tlearn: 0.0491345\ttotal: 10s\tremaining: 7.14s\n",
      "584:\tlearn: 0.0490998\ttotal: 10.1s\tremaining: 7.13s\n",
      "585:\tlearn: 0.0490682\ttotal: 10.1s\tremaining: 7.12s\n",
      "586:\tlearn: 0.0490395\ttotal: 10.1s\tremaining: 7.1s\n",
      "587:\tlearn: 0.0490063\ttotal: 10.1s\tremaining: 7.09s\n",
      "588:\tlearn: 0.0489355\ttotal: 10.1s\tremaining: 7.07s\n",
      "589:\tlearn: 0.0488143\ttotal: 10.2s\tremaining: 7.05s\n",
      "590:\tlearn: 0.0487311\ttotal: 10.2s\tremaining: 7.04s\n",
      "591:\tlearn: 0.0486813\ttotal: 10.2s\tremaining: 7.03s\n",
      "592:\tlearn: 0.0486522\ttotal: 10.2s\tremaining: 7.02s\n",
      "593:\tlearn: 0.0486256\ttotal: 10.2s\tremaining: 7s\n",
      "594:\tlearn: 0.0485882\ttotal: 10.3s\tremaining: 6.99s\n",
      "595:\tlearn: 0.0485625\ttotal: 10.3s\tremaining: 6.97s\n",
      "596:\tlearn: 0.0485350\ttotal: 10.3s\tremaining: 6.96s\n",
      "597:\tlearn: 0.0484526\ttotal: 10.3s\tremaining: 6.95s\n",
      "598:\tlearn: 0.0484240\ttotal: 10.4s\tremaining: 6.93s\n",
      "599:\tlearn: 0.0483766\ttotal: 10.4s\tremaining: 6.92s\n",
      "600:\tlearn: 0.0483587\ttotal: 10.4s\tremaining: 6.9s\n",
      "601:\tlearn: 0.0483445\ttotal: 10.4s\tremaining: 6.89s\n",
      "602:\tlearn: 0.0483108\ttotal: 10.4s\tremaining: 6.87s\n",
      "603:\tlearn: 0.0482757\ttotal: 10.5s\tremaining: 6.86s\n",
      "604:\tlearn: 0.0482340\ttotal: 10.5s\tremaining: 6.84s\n",
      "605:\tlearn: 0.0482079\ttotal: 10.5s\tremaining: 6.83s\n",
      "606:\tlearn: 0.0480913\ttotal: 10.5s\tremaining: 6.81s\n",
      "607:\tlearn: 0.0480128\ttotal: 10.5s\tremaining: 6.8s\n",
      "608:\tlearn: 0.0479843\ttotal: 10.6s\tremaining: 6.78s\n",
      "609:\tlearn: 0.0479201\ttotal: 10.6s\tremaining: 6.77s\n",
      "610:\tlearn: 0.0479007\ttotal: 10.6s\tremaining: 6.75s\n",
      "611:\tlearn: 0.0478613\ttotal: 10.6s\tremaining: 6.73s\n",
      "612:\tlearn: 0.0478300\ttotal: 10.6s\tremaining: 6.71s\n",
      "613:\tlearn: 0.0478210\ttotal: 10.6s\tremaining: 6.69s\n",
      "614:\tlearn: 0.0478002\ttotal: 10.7s\tremaining: 6.67s\n",
      "615:\tlearn: 0.0477238\ttotal: 10.7s\tremaining: 6.66s\n",
      "616:\tlearn: 0.0477073\ttotal: 10.7s\tremaining: 6.64s\n",
      "617:\tlearn: 0.0476637\ttotal: 10.7s\tremaining: 6.62s\n",
      "618:\tlearn: 0.0476480\ttotal: 10.7s\tremaining: 6.6s\n",
      "619:\tlearn: 0.0476099\ttotal: 10.7s\tremaining: 6.58s\n",
      "620:\tlearn: 0.0475843\ttotal: 10.8s\tremaining: 6.56s\n",
      "621:\tlearn: 0.0474982\ttotal: 10.8s\tremaining: 6.54s\n",
      "622:\tlearn: 0.0474656\ttotal: 10.8s\tremaining: 6.53s\n",
      "623:\tlearn: 0.0474621\ttotal: 10.8s\tremaining: 6.51s\n",
      "624:\tlearn: 0.0474548\ttotal: 10.8s\tremaining: 6.49s\n",
      "625:\tlearn: 0.0474250\ttotal: 10.8s\tremaining: 6.47s\n",
      "626:\tlearn: 0.0474089\ttotal: 10.8s\tremaining: 6.45s\n",
      "627:\tlearn: 0.0473542\ttotal: 10.9s\tremaining: 6.44s\n",
      "628:\tlearn: 0.0473030\ttotal: 10.9s\tremaining: 6.42s\n",
      "629:\tlearn: 0.0472657\ttotal: 10.9s\tremaining: 6.4s\n",
      "630:\tlearn: 0.0472549\ttotal: 10.9s\tremaining: 6.38s\n",
      "631:\tlearn: 0.0472386\ttotal: 10.9s\tremaining: 6.36s\n",
      "632:\tlearn: 0.0471763\ttotal: 10.9s\tremaining: 6.34s\n",
      "633:\tlearn: 0.0471529\ttotal: 11s\tremaining: 6.33s\n",
      "634:\tlearn: 0.0471002\ttotal: 11s\tremaining: 6.31s\n",
      "635:\tlearn: 0.0470574\ttotal: 11s\tremaining: 6.29s\n",
      "636:\tlearn: 0.0470466\ttotal: 11s\tremaining: 6.27s\n",
      "637:\tlearn: 0.0469732\ttotal: 11s\tremaining: 6.25s\n",
      "638:\tlearn: 0.0469557\ttotal: 11s\tremaining: 6.24s\n",
      "639:\tlearn: 0.0469368\ttotal: 11.1s\tremaining: 6.22s\n",
      "640:\tlearn: 0.0468812\ttotal: 11.1s\tremaining: 6.2s\n",
      "641:\tlearn: 0.0468340\ttotal: 11.1s\tremaining: 6.18s\n",
      "642:\tlearn: 0.0467919\ttotal: 11.1s\tremaining: 6.16s\n",
      "643:\tlearn: 0.0467712\ttotal: 11.1s\tremaining: 6.14s\n",
      "644:\tlearn: 0.0467543\ttotal: 11.1s\tremaining: 6.13s\n",
      "645:\tlearn: 0.0467062\ttotal: 11.1s\tremaining: 6.11s\n",
      "646:\tlearn: 0.0466951\ttotal: 11.2s\tremaining: 6.09s\n",
      "647:\tlearn: 0.0466796\ttotal: 11.2s\tremaining: 6.07s\n",
      "648:\tlearn: 0.0466440\ttotal: 11.2s\tremaining: 6.05s\n",
      "649:\tlearn: 0.0466329\ttotal: 11.2s\tremaining: 6.03s\n",
      "650:\tlearn: 0.0466228\ttotal: 11.2s\tremaining: 6.01s\n",
      "651:\tlearn: 0.0466228\ttotal: 11.2s\tremaining: 5.99s\n",
      "652:\tlearn: 0.0466182\ttotal: 11.2s\tremaining: 5.98s\n",
      "653:\tlearn: 0.0465875\ttotal: 11.3s\tremaining: 5.96s\n",
      "654:\tlearn: 0.0465849\ttotal: 11.3s\tremaining: 5.94s\n",
      "655:\tlearn: 0.0465849\ttotal: 11.3s\tremaining: 5.92s\n",
      "656:\tlearn: 0.0465416\ttotal: 11.3s\tremaining: 5.9s\n",
      "657:\tlearn: 0.0464914\ttotal: 11.3s\tremaining: 5.89s\n",
      "658:\tlearn: 0.0464700\ttotal: 11.3s\tremaining: 5.87s\n",
      "659:\tlearn: 0.0464213\ttotal: 11.4s\tremaining: 5.85s\n",
      "660:\tlearn: 0.0464078\ttotal: 11.4s\tremaining: 5.83s\n",
      "661:\tlearn: 0.0463979\ttotal: 11.4s\tremaining: 5.81s\n",
      "662:\tlearn: 0.0463428\ttotal: 11.4s\tremaining: 5.79s\n",
      "663:\tlearn: 0.0462921\ttotal: 11.4s\tremaining: 5.78s\n",
      "664:\tlearn: 0.0462806\ttotal: 11.4s\tremaining: 5.76s\n",
      "665:\tlearn: 0.0462572\ttotal: 11.4s\tremaining: 5.74s\n",
      "666:\tlearn: 0.0462075\ttotal: 11.5s\tremaining: 5.72s\n",
      "667:\tlearn: 0.0461888\ttotal: 11.5s\tremaining: 5.71s\n",
      "668:\tlearn: 0.0460969\ttotal: 11.5s\tremaining: 5.69s\n",
      "669:\tlearn: 0.0460504\ttotal: 11.5s\tremaining: 5.67s\n",
      "670:\tlearn: 0.0459991\ttotal: 11.5s\tremaining: 5.65s\n",
      "671:\tlearn: 0.0459676\ttotal: 11.5s\tremaining: 5.63s\n",
      "672:\tlearn: 0.0459217\ttotal: 11.6s\tremaining: 5.62s\n",
      "673:\tlearn: 0.0458581\ttotal: 11.6s\tremaining: 5.6s\n",
      "674:\tlearn: 0.0458488\ttotal: 11.6s\tremaining: 5.58s\n",
      "675:\tlearn: 0.0458186\ttotal: 11.6s\tremaining: 5.57s\n",
      "676:\tlearn: 0.0458138\ttotal: 11.6s\tremaining: 5.55s\n",
      "677:\tlearn: 0.0458085\ttotal: 11.6s\tremaining: 5.53s\n",
      "678:\tlearn: 0.0457697\ttotal: 11.7s\tremaining: 5.51s\n",
      "679:\tlearn: 0.0457555\ttotal: 11.7s\tremaining: 5.49s\n",
      "680:\tlearn: 0.0457210\ttotal: 11.7s\tremaining: 5.48s\n",
      "681:\tlearn: 0.0457019\ttotal: 11.7s\tremaining: 5.46s\n",
      "682:\tlearn: 0.0456214\ttotal: 11.7s\tremaining: 5.44s\n",
      "683:\tlearn: 0.0455844\ttotal: 11.7s\tremaining: 5.42s\n",
      "684:\tlearn: 0.0455634\ttotal: 11.8s\tremaining: 5.4s\n",
      "685:\tlearn: 0.0455342\ttotal: 11.8s\tremaining: 5.39s\n",
      "686:\tlearn: 0.0455121\ttotal: 11.8s\tremaining: 5.37s\n",
      "687:\tlearn: 0.0454701\ttotal: 11.8s\tremaining: 5.35s\n",
      "688:\tlearn: 0.0454545\ttotal: 11.8s\tremaining: 5.33s\n",
      "689:\tlearn: 0.0454250\ttotal: 11.8s\tremaining: 5.31s\n",
      "690:\tlearn: 0.0453798\ttotal: 11.8s\tremaining: 5.3s\n",
      "691:\tlearn: 0.0453666\ttotal: 11.9s\tremaining: 5.28s\n",
      "692:\tlearn: 0.0453492\ttotal: 11.9s\tremaining: 5.26s\n",
      "693:\tlearn: 0.0453236\ttotal: 11.9s\tremaining: 5.24s\n",
      "694:\tlearn: 0.0452956\ttotal: 11.9s\tremaining: 5.22s\n",
      "695:\tlearn: 0.0452322\ttotal: 11.9s\tremaining: 5.21s\n",
      "696:\tlearn: 0.0452157\ttotal: 11.9s\tremaining: 5.19s\n",
      "697:\tlearn: 0.0451549\ttotal: 11.9s\tremaining: 5.17s\n",
      "698:\tlearn: 0.0451226\ttotal: 12s\tremaining: 5.15s\n",
      "699:\tlearn: 0.0450667\ttotal: 12s\tremaining: 5.13s\n",
      "700:\tlearn: 0.0450040\ttotal: 12s\tremaining: 5.12s\n",
      "701:\tlearn: 0.0449911\ttotal: 12s\tremaining: 5.1s\n",
      "702:\tlearn: 0.0449831\ttotal: 12s\tremaining: 5.08s\n",
      "703:\tlearn: 0.0449330\ttotal: 12s\tremaining: 5.06s\n",
      "704:\tlearn: 0.0448879\ttotal: 12.1s\tremaining: 5.05s\n",
      "705:\tlearn: 0.0448654\ttotal: 12.1s\tremaining: 5.03s\n",
      "706:\tlearn: 0.0448540\ttotal: 12.1s\tremaining: 5.01s\n",
      "707:\tlearn: 0.0448143\ttotal: 12.1s\tremaining: 4.99s\n",
      "708:\tlearn: 0.0447802\ttotal: 12.1s\tremaining: 4.97s\n",
      "709:\tlearn: 0.0447059\ttotal: 12.1s\tremaining: 4.96s\n",
      "710:\tlearn: 0.0446419\ttotal: 12.2s\tremaining: 4.94s\n",
      "711:\tlearn: 0.0446337\ttotal: 12.2s\tremaining: 4.92s\n",
      "712:\tlearn: 0.0445918\ttotal: 12.2s\tremaining: 4.9s\n",
      "713:\tlearn: 0.0445735\ttotal: 12.2s\tremaining: 4.88s\n",
      "714:\tlearn: 0.0445513\ttotal: 12.2s\tremaining: 4.87s\n",
      "715:\tlearn: 0.0445409\ttotal: 12.2s\tremaining: 4.85s\n",
      "716:\tlearn: 0.0445045\ttotal: 12.2s\tremaining: 4.83s\n",
      "717:\tlearn: 0.0444640\ttotal: 12.3s\tremaining: 4.81s\n",
      "718:\tlearn: 0.0444385\ttotal: 12.3s\tremaining: 4.8s\n",
      "719:\tlearn: 0.0444200\ttotal: 12.3s\tremaining: 4.78s\n",
      "720:\tlearn: 0.0443869\ttotal: 12.3s\tremaining: 4.76s\n",
      "721:\tlearn: 0.0443774\ttotal: 12.3s\tremaining: 4.74s\n",
      "722:\tlearn: 0.0443453\ttotal: 12.3s\tremaining: 4.72s\n",
      "723:\tlearn: 0.0443105\ttotal: 12.3s\tremaining: 4.71s\n",
      "724:\tlearn: 0.0443020\ttotal: 12.4s\tremaining: 4.69s\n",
      "725:\tlearn: 0.0442377\ttotal: 12.4s\tremaining: 4.67s\n",
      "726:\tlearn: 0.0441891\ttotal: 12.4s\tremaining: 4.65s\n",
      "727:\tlearn: 0.0441578\ttotal: 12.4s\tremaining: 4.64s\n",
      "728:\tlearn: 0.0441475\ttotal: 12.4s\tremaining: 4.62s\n",
      "729:\tlearn: 0.0441244\ttotal: 12.4s\tremaining: 4.6s\n",
      "730:\tlearn: 0.0440649\ttotal: 12.5s\tremaining: 4.58s\n",
      "731:\tlearn: 0.0440485\ttotal: 12.5s\tremaining: 4.57s\n",
      "732:\tlearn: 0.0439887\ttotal: 12.5s\tremaining: 4.55s\n",
      "733:\tlearn: 0.0439758\ttotal: 12.5s\tremaining: 4.53s\n",
      "734:\tlearn: 0.0439507\ttotal: 12.5s\tremaining: 4.52s\n",
      "735:\tlearn: 0.0439010\ttotal: 12.5s\tremaining: 4.5s\n",
      "736:\tlearn: 0.0438843\ttotal: 12.6s\tremaining: 4.48s\n",
      "737:\tlearn: 0.0438502\ttotal: 12.6s\tremaining: 4.46s\n",
      "738:\tlearn: 0.0437978\ttotal: 12.6s\tremaining: 4.45s\n",
      "739:\tlearn: 0.0437309\ttotal: 12.6s\tremaining: 4.43s\n",
      "740:\tlearn: 0.0436938\ttotal: 12.6s\tremaining: 4.41s\n",
      "741:\tlearn: 0.0436460\ttotal: 12.6s\tremaining: 4.39s\n",
      "742:\tlearn: 0.0436179\ttotal: 12.7s\tremaining: 4.38s\n",
      "743:\tlearn: 0.0435950\ttotal: 12.7s\tremaining: 4.36s\n",
      "744:\tlearn: 0.0435687\ttotal: 12.7s\tremaining: 4.34s\n",
      "745:\tlearn: 0.0435102\ttotal: 12.7s\tremaining: 4.32s\n",
      "746:\tlearn: 0.0434828\ttotal: 12.7s\tremaining: 4.31s\n",
      "747:\tlearn: 0.0434531\ttotal: 12.7s\tremaining: 4.29s\n",
      "748:\tlearn: 0.0434339\ttotal: 12.7s\tremaining: 4.27s\n",
      "749:\tlearn: 0.0434166\ttotal: 12.8s\tremaining: 4.25s\n",
      "750:\tlearn: 0.0433894\ttotal: 12.8s\tremaining: 4.24s\n",
      "751:\tlearn: 0.0433832\ttotal: 12.8s\tremaining: 4.22s\n",
      "752:\tlearn: 0.0433627\ttotal: 12.8s\tremaining: 4.2s\n",
      "753:\tlearn: 0.0433467\ttotal: 12.8s\tremaining: 4.18s\n",
      "754:\tlearn: 0.0433195\ttotal: 12.8s\tremaining: 4.17s\n",
      "755:\tlearn: 0.0432973\ttotal: 12.8s\tremaining: 4.15s\n",
      "756:\tlearn: 0.0432696\ttotal: 12.9s\tremaining: 4.13s\n",
      "757:\tlearn: 0.0432590\ttotal: 12.9s\tremaining: 4.11s\n",
      "758:\tlearn: 0.0432240\ttotal: 12.9s\tremaining: 4.09s\n",
      "759:\tlearn: 0.0431929\ttotal: 12.9s\tremaining: 4.08s\n",
      "760:\tlearn: 0.0431680\ttotal: 12.9s\tremaining: 4.06s\n",
      "761:\tlearn: 0.0431601\ttotal: 12.9s\tremaining: 4.04s\n",
      "762:\tlearn: 0.0431342\ttotal: 13s\tremaining: 4.03s\n",
      "763:\tlearn: 0.0430805\ttotal: 13s\tremaining: 4.01s\n",
      "764:\tlearn: 0.0430215\ttotal: 13s\tremaining: 3.99s\n",
      "765:\tlearn: 0.0429734\ttotal: 13s\tremaining: 3.97s\n",
      "766:\tlearn: 0.0429097\ttotal: 13s\tremaining: 3.96s\n",
      "767:\tlearn: 0.0428986\ttotal: 13s\tremaining: 3.94s\n",
      "768:\tlearn: 0.0428547\ttotal: 13.1s\tremaining: 3.92s\n",
      "769:\tlearn: 0.0428212\ttotal: 13.1s\tremaining: 3.9s\n",
      "770:\tlearn: 0.0427960\ttotal: 13.1s\tremaining: 3.89s\n",
      "771:\tlearn: 0.0427883\ttotal: 13.1s\tremaining: 3.87s\n",
      "772:\tlearn: 0.0427836\ttotal: 13.1s\tremaining: 3.85s\n",
      "773:\tlearn: 0.0427539\ttotal: 13.1s\tremaining: 3.84s\n",
      "774:\tlearn: 0.0427229\ttotal: 13.2s\tremaining: 3.82s\n",
      "775:\tlearn: 0.0426946\ttotal: 13.2s\tremaining: 3.8s\n",
      "776:\tlearn: 0.0426712\ttotal: 13.2s\tremaining: 3.78s\n",
      "777:\tlearn: 0.0426111\ttotal: 13.2s\tremaining: 3.77s\n",
      "778:\tlearn: 0.0426076\ttotal: 13.2s\tremaining: 3.75s\n",
      "779:\tlearn: 0.0425932\ttotal: 13.2s\tremaining: 3.73s\n",
      "780:\tlearn: 0.0425641\ttotal: 13.2s\tremaining: 3.71s\n",
      "781:\tlearn: 0.0425033\ttotal: 13.3s\tremaining: 3.7s\n",
      "782:\tlearn: 0.0424731\ttotal: 13.3s\tremaining: 3.68s\n",
      "783:\tlearn: 0.0424542\ttotal: 13.3s\tremaining: 3.66s\n",
      "784:\tlearn: 0.0424106\ttotal: 13.3s\tremaining: 3.65s\n",
      "785:\tlearn: 0.0424080\ttotal: 13.3s\tremaining: 3.63s\n",
      "786:\tlearn: 0.0423931\ttotal: 13.3s\tremaining: 3.61s\n",
      "787:\tlearn: 0.0423696\ttotal: 13.4s\tremaining: 3.59s\n",
      "788:\tlearn: 0.0423483\ttotal: 13.4s\tremaining: 3.57s\n",
      "789:\tlearn: 0.0423074\ttotal: 13.4s\tremaining: 3.56s\n",
      "790:\tlearn: 0.0422947\ttotal: 13.4s\tremaining: 3.54s\n",
      "791:\tlearn: 0.0422487\ttotal: 13.4s\tremaining: 3.52s\n",
      "792:\tlearn: 0.0422211\ttotal: 13.4s\tremaining: 3.5s\n",
      "793:\tlearn: 0.0421944\ttotal: 13.4s\tremaining: 3.49s\n",
      "794:\tlearn: 0.0421699\ttotal: 13.5s\tremaining: 3.47s\n",
      "795:\tlearn: 0.0421626\ttotal: 13.5s\tremaining: 3.45s\n",
      "796:\tlearn: 0.0421343\ttotal: 13.5s\tremaining: 3.43s\n",
      "797:\tlearn: 0.0421167\ttotal: 13.5s\tremaining: 3.42s\n",
      "798:\tlearn: 0.0420917\ttotal: 13.5s\tremaining: 3.4s\n",
      "799:\tlearn: 0.0420723\ttotal: 13.5s\tremaining: 3.38s\n",
      "800:\tlearn: 0.0420504\ttotal: 13.5s\tremaining: 3.37s\n",
      "801:\tlearn: 0.0420044\ttotal: 13.6s\tremaining: 3.35s\n",
      "802:\tlearn: 0.0419738\ttotal: 13.6s\tremaining: 3.33s\n",
      "803:\tlearn: 0.0419680\ttotal: 13.6s\tremaining: 3.31s\n",
      "804:\tlearn: 0.0419638\ttotal: 13.6s\tremaining: 3.3s\n",
      "805:\tlearn: 0.0419425\ttotal: 13.6s\tremaining: 3.28s\n",
      "806:\tlearn: 0.0419336\ttotal: 13.6s\tremaining: 3.26s\n",
      "807:\tlearn: 0.0419142\ttotal: 13.7s\tremaining: 3.24s\n",
      "808:\tlearn: 0.0418940\ttotal: 13.7s\tremaining: 3.23s\n",
      "809:\tlearn: 0.0418706\ttotal: 13.7s\tremaining: 3.21s\n",
      "810:\tlearn: 0.0418575\ttotal: 13.7s\tremaining: 3.19s\n",
      "811:\tlearn: 0.0418349\ttotal: 13.7s\tremaining: 3.17s\n",
      "812:\tlearn: 0.0418170\ttotal: 13.7s\tremaining: 3.16s\n",
      "813:\tlearn: 0.0417988\ttotal: 13.7s\tremaining: 3.14s\n",
      "814:\tlearn: 0.0417795\ttotal: 13.8s\tremaining: 3.12s\n",
      "815:\tlearn: 0.0417597\ttotal: 13.8s\tremaining: 3.11s\n",
      "816:\tlearn: 0.0417519\ttotal: 13.8s\tremaining: 3.09s\n",
      "817:\tlearn: 0.0417412\ttotal: 13.8s\tremaining: 3.07s\n",
      "818:\tlearn: 0.0417364\ttotal: 13.8s\tremaining: 3.05s\n",
      "819:\tlearn: 0.0417278\ttotal: 13.8s\tremaining: 3.04s\n",
      "820:\tlearn: 0.0416918\ttotal: 13.9s\tremaining: 3.02s\n",
      "821:\tlearn: 0.0416653\ttotal: 13.9s\tremaining: 3s\n",
      "822:\tlearn: 0.0416394\ttotal: 13.9s\tremaining: 2.99s\n",
      "823:\tlearn: 0.0416283\ttotal: 13.9s\tremaining: 2.97s\n",
      "824:\tlearn: 0.0416043\ttotal: 13.9s\tremaining: 2.95s\n",
      "825:\tlearn: 0.0415520\ttotal: 13.9s\tremaining: 2.94s\n",
      "826:\tlearn: 0.0415308\ttotal: 14s\tremaining: 2.92s\n",
      "827:\tlearn: 0.0415182\ttotal: 14s\tremaining: 2.9s\n",
      "828:\tlearn: 0.0415035\ttotal: 14s\tremaining: 2.88s\n",
      "829:\tlearn: 0.0414776\ttotal: 14s\tremaining: 2.87s\n",
      "830:\tlearn: 0.0414704\ttotal: 14s\tremaining: 2.85s\n",
      "831:\tlearn: 0.0414496\ttotal: 14s\tremaining: 2.83s\n",
      "832:\tlearn: 0.0414446\ttotal: 14s\tremaining: 2.81s\n",
      "833:\tlearn: 0.0414315\ttotal: 14.1s\tremaining: 2.8s\n",
      "834:\tlearn: 0.0414000\ttotal: 14.1s\tremaining: 2.78s\n",
      "835:\tlearn: 0.0413877\ttotal: 14.1s\tremaining: 2.76s\n",
      "836:\tlearn: 0.0413696\ttotal: 14.1s\tremaining: 2.75s\n",
      "837:\tlearn: 0.0413629\ttotal: 14.1s\tremaining: 2.73s\n",
      "838:\tlearn: 0.0413368\ttotal: 14.1s\tremaining: 2.71s\n",
      "839:\tlearn: 0.0413097\ttotal: 14.1s\tremaining: 2.69s\n",
      "840:\tlearn: 0.0412671\ttotal: 14.2s\tremaining: 2.68s\n",
      "841:\tlearn: 0.0412370\ttotal: 14.2s\tremaining: 2.66s\n",
      "842:\tlearn: 0.0412162\ttotal: 14.2s\tremaining: 2.64s\n",
      "843:\tlearn: 0.0412139\ttotal: 14.2s\tremaining: 2.63s\n",
      "844:\tlearn: 0.0412038\ttotal: 14.2s\tremaining: 2.61s\n",
      "845:\tlearn: 0.0411570\ttotal: 14.2s\tremaining: 2.59s\n",
      "846:\tlearn: 0.0411318\ttotal: 14.3s\tremaining: 2.58s\n",
      "847:\tlearn: 0.0411117\ttotal: 14.3s\tremaining: 2.56s\n",
      "848:\tlearn: 0.0411019\ttotal: 14.3s\tremaining: 2.54s\n",
      "849:\tlearn: 0.0410831\ttotal: 14.3s\tremaining: 2.52s\n",
      "850:\tlearn: 0.0410760\ttotal: 14.3s\tremaining: 2.51s\n",
      "851:\tlearn: 0.0410520\ttotal: 14.3s\tremaining: 2.49s\n",
      "852:\tlearn: 0.0410236\ttotal: 14.3s\tremaining: 2.47s\n",
      "853:\tlearn: 0.0410112\ttotal: 14.4s\tremaining: 2.46s\n",
      "854:\tlearn: 0.0410003\ttotal: 14.4s\tremaining: 2.44s\n",
      "855:\tlearn: 0.0409913\ttotal: 14.4s\tremaining: 2.42s\n",
      "856:\tlearn: 0.0409451\ttotal: 14.4s\tremaining: 2.4s\n",
      "857:\tlearn: 0.0409189\ttotal: 14.4s\tremaining: 2.39s\n",
      "858:\tlearn: 0.0408803\ttotal: 14.4s\tremaining: 2.37s\n",
      "859:\tlearn: 0.0408554\ttotal: 14.5s\tremaining: 2.35s\n",
      "860:\tlearn: 0.0408437\ttotal: 14.5s\tremaining: 2.33s\n",
      "861:\tlearn: 0.0408318\ttotal: 14.5s\tremaining: 2.32s\n",
      "862:\tlearn: 0.0408214\ttotal: 14.5s\tremaining: 2.3s\n",
      "863:\tlearn: 0.0407918\ttotal: 14.5s\tremaining: 2.28s\n",
      "864:\tlearn: 0.0407650\ttotal: 14.5s\tremaining: 2.27s\n",
      "865:\tlearn: 0.0407311\ttotal: 14.5s\tremaining: 2.25s\n",
      "866:\tlearn: 0.0407273\ttotal: 14.6s\tremaining: 2.23s\n",
      "867:\tlearn: 0.0406991\ttotal: 14.6s\tremaining: 2.22s\n",
      "868:\tlearn: 0.0406682\ttotal: 14.6s\tremaining: 2.2s\n",
      "869:\tlearn: 0.0406525\ttotal: 14.6s\tremaining: 2.18s\n",
      "870:\tlearn: 0.0406235\ttotal: 14.6s\tremaining: 2.17s\n",
      "871:\tlearn: 0.0406083\ttotal: 14.6s\tremaining: 2.15s\n",
      "872:\tlearn: 0.0406036\ttotal: 14.7s\tremaining: 2.13s\n",
      "873:\tlearn: 0.0405763\ttotal: 14.7s\tremaining: 2.12s\n",
      "874:\tlearn: 0.0405526\ttotal: 14.7s\tremaining: 2.1s\n",
      "875:\tlearn: 0.0405307\ttotal: 14.7s\tremaining: 2.08s\n",
      "876:\tlearn: 0.0405097\ttotal: 14.7s\tremaining: 2.06s\n",
      "877:\tlearn: 0.0404866\ttotal: 14.7s\tremaining: 2.05s\n",
      "878:\tlearn: 0.0404744\ttotal: 14.8s\tremaining: 2.03s\n",
      "879:\tlearn: 0.0404496\ttotal: 14.8s\tremaining: 2.01s\n",
      "880:\tlearn: 0.0404231\ttotal: 14.8s\tremaining: 2s\n",
      "881:\tlearn: 0.0404076\ttotal: 14.8s\tremaining: 1.98s\n",
      "882:\tlearn: 0.0403952\ttotal: 14.8s\tremaining: 1.96s\n",
      "883:\tlearn: 0.0403676\ttotal: 14.8s\tremaining: 1.95s\n",
      "884:\tlearn: 0.0403509\ttotal: 14.8s\tremaining: 1.93s\n",
      "885:\tlearn: 0.0403260\ttotal: 14.9s\tremaining: 1.91s\n",
      "886:\tlearn: 0.0403038\ttotal: 14.9s\tremaining: 1.9s\n",
      "887:\tlearn: 0.0402803\ttotal: 14.9s\tremaining: 1.88s\n",
      "888:\tlearn: 0.0402672\ttotal: 14.9s\tremaining: 1.86s\n",
      "889:\tlearn: 0.0402422\ttotal: 14.9s\tremaining: 1.84s\n",
      "890:\tlearn: 0.0402277\ttotal: 14.9s\tremaining: 1.83s\n",
      "891:\tlearn: 0.0401985\ttotal: 15s\tremaining: 1.81s\n",
      "892:\tlearn: 0.0401784\ttotal: 15s\tremaining: 1.79s\n",
      "893:\tlearn: 0.0401328\ttotal: 15s\tremaining: 1.78s\n",
      "894:\tlearn: 0.0400943\ttotal: 15s\tremaining: 1.76s\n",
      "895:\tlearn: 0.0400880\ttotal: 15s\tremaining: 1.74s\n",
      "896:\tlearn: 0.0400582\ttotal: 15s\tremaining: 1.73s\n",
      "897:\tlearn: 0.0400423\ttotal: 15s\tremaining: 1.71s\n",
      "898:\tlearn: 0.0400299\ttotal: 15.1s\tremaining: 1.69s\n",
      "899:\tlearn: 0.0400234\ttotal: 15.1s\tremaining: 1.68s\n",
      "900:\tlearn: 0.0400218\ttotal: 15.1s\tremaining: 1.66s\n",
      "901:\tlearn: 0.0400117\ttotal: 15.1s\tremaining: 1.64s\n",
      "902:\tlearn: 0.0399942\ttotal: 15.1s\tremaining: 1.62s\n",
      "903:\tlearn: 0.0399610\ttotal: 15.1s\tremaining: 1.61s\n",
      "904:\tlearn: 0.0399436\ttotal: 15.1s\tremaining: 1.59s\n",
      "905:\tlearn: 0.0399130\ttotal: 15.2s\tremaining: 1.57s\n",
      "906:\tlearn: 0.0398965\ttotal: 15.2s\tremaining: 1.56s\n",
      "907:\tlearn: 0.0398701\ttotal: 15.2s\tremaining: 1.54s\n",
      "908:\tlearn: 0.0398611\ttotal: 15.2s\tremaining: 1.52s\n",
      "909:\tlearn: 0.0398105\ttotal: 15.2s\tremaining: 1.51s\n",
      "910:\tlearn: 0.0398000\ttotal: 15.2s\tremaining: 1.49s\n",
      "911:\tlearn: 0.0397843\ttotal: 15.3s\tremaining: 1.47s\n",
      "912:\tlearn: 0.0397589\ttotal: 15.3s\tremaining: 1.46s\n",
      "913:\tlearn: 0.0397012\ttotal: 15.3s\tremaining: 1.44s\n",
      "914:\tlearn: 0.0396655\ttotal: 15.3s\tremaining: 1.42s\n",
      "915:\tlearn: 0.0396427\ttotal: 15.3s\tremaining: 1.41s\n",
      "916:\tlearn: 0.0396326\ttotal: 15.3s\tremaining: 1.39s\n",
      "917:\tlearn: 0.0396130\ttotal: 15.4s\tremaining: 1.37s\n",
      "918:\tlearn: 0.0395719\ttotal: 15.4s\tremaining: 1.35s\n",
      "919:\tlearn: 0.0395448\ttotal: 15.4s\tremaining: 1.34s\n",
      "920:\tlearn: 0.0395238\ttotal: 15.4s\tremaining: 1.32s\n",
      "921:\tlearn: 0.0395028\ttotal: 15.4s\tremaining: 1.3s\n",
      "922:\tlearn: 0.0394652\ttotal: 15.4s\tremaining: 1.29s\n",
      "923:\tlearn: 0.0394457\ttotal: 15.4s\tremaining: 1.27s\n",
      "924:\tlearn: 0.0394219\ttotal: 15.5s\tremaining: 1.25s\n",
      "925:\tlearn: 0.0394005\ttotal: 15.5s\tremaining: 1.24s\n",
      "926:\tlearn: 0.0393882\ttotal: 15.5s\tremaining: 1.22s\n",
      "927:\tlearn: 0.0393649\ttotal: 15.5s\tremaining: 1.2s\n",
      "928:\tlearn: 0.0393524\ttotal: 15.5s\tremaining: 1.19s\n",
      "929:\tlearn: 0.0393273\ttotal: 15.5s\tremaining: 1.17s\n",
      "930:\tlearn: 0.0392930\ttotal: 15.6s\tremaining: 1.15s\n",
      "931:\tlearn: 0.0392726\ttotal: 15.6s\tremaining: 1.14s\n",
      "932:\tlearn: 0.0392456\ttotal: 15.6s\tremaining: 1.12s\n",
      "933:\tlearn: 0.0392334\ttotal: 15.6s\tremaining: 1.1s\n",
      "934:\tlearn: 0.0392194\ttotal: 15.6s\tremaining: 1.08s\n",
      "935:\tlearn: 0.0391864\ttotal: 15.6s\tremaining: 1.07s\n",
      "936:\tlearn: 0.0391763\ttotal: 15.6s\tremaining: 1.05s\n",
      "937:\tlearn: 0.0391709\ttotal: 15.7s\tremaining: 1.03s\n",
      "938:\tlearn: 0.0391502\ttotal: 15.7s\tremaining: 1.02s\n",
      "939:\tlearn: 0.0391302\ttotal: 15.7s\tremaining: 1s\n",
      "940:\tlearn: 0.0391038\ttotal: 15.7s\tremaining: 985ms\n",
      "941:\tlearn: 0.0390583\ttotal: 15.7s\tremaining: 968ms\n",
      "942:\tlearn: 0.0390037\ttotal: 15.7s\tremaining: 952ms\n",
      "943:\tlearn: 0.0389609\ttotal: 15.8s\tremaining: 935ms\n",
      "944:\tlearn: 0.0389421\ttotal: 15.8s\tremaining: 918ms\n",
      "945:\tlearn: 0.0389357\ttotal: 15.8s\tremaining: 901ms\n",
      "946:\tlearn: 0.0389045\ttotal: 15.8s\tremaining: 885ms\n",
      "947:\tlearn: 0.0389018\ttotal: 15.8s\tremaining: 868ms\n",
      "948:\tlearn: 0.0388935\ttotal: 15.8s\tremaining: 851ms\n",
      "949:\tlearn: 0.0388910\ttotal: 15.9s\tremaining: 835ms\n",
      "950:\tlearn: 0.0388585\ttotal: 15.9s\tremaining: 818ms\n",
      "951:\tlearn: 0.0388368\ttotal: 15.9s\tremaining: 801ms\n",
      "952:\tlearn: 0.0388166\ttotal: 15.9s\tremaining: 784ms\n",
      "953:\tlearn: 0.0387814\ttotal: 15.9s\tremaining: 768ms\n",
      "954:\tlearn: 0.0387591\ttotal: 15.9s\tremaining: 751ms\n",
      "955:\tlearn: 0.0387323\ttotal: 16s\tremaining: 734ms\n",
      "956:\tlearn: 0.0387004\ttotal: 16s\tremaining: 718ms\n",
      "957:\tlearn: 0.0386809\ttotal: 16s\tremaining: 701ms\n",
      "958:\tlearn: 0.0386540\ttotal: 16s\tremaining: 684ms\n",
      "959:\tlearn: 0.0386264\ttotal: 16s\tremaining: 667ms\n",
      "960:\tlearn: 0.0386118\ttotal: 16s\tremaining: 651ms\n",
      "961:\tlearn: 0.0385925\ttotal: 16.1s\tremaining: 634ms\n",
      "962:\tlearn: 0.0385749\ttotal: 16.1s\tremaining: 617ms\n",
      "963:\tlearn: 0.0385598\ttotal: 16.1s\tremaining: 601ms\n",
      "964:\tlearn: 0.0385466\ttotal: 16.1s\tremaining: 584ms\n",
      "965:\tlearn: 0.0385289\ttotal: 16.1s\tremaining: 567ms\n",
      "966:\tlearn: 0.0384921\ttotal: 16.1s\tremaining: 550ms\n",
      "967:\tlearn: 0.0384555\ttotal: 16.1s\tremaining: 534ms\n",
      "968:\tlearn: 0.0384459\ttotal: 16.2s\tremaining: 517ms\n",
      "969:\tlearn: 0.0384310\ttotal: 16.2s\tremaining: 500ms\n",
      "970:\tlearn: 0.0384142\ttotal: 16.2s\tremaining: 483ms\n",
      "971:\tlearn: 0.0383939\ttotal: 16.2s\tremaining: 467ms\n",
      "972:\tlearn: 0.0383727\ttotal: 16.2s\tremaining: 450ms\n",
      "973:\tlearn: 0.0383397\ttotal: 16.2s\tremaining: 433ms\n",
      "974:\tlearn: 0.0383291\ttotal: 16.3s\tremaining: 417ms\n",
      "975:\tlearn: 0.0383146\ttotal: 16.3s\tremaining: 400ms\n",
      "976:\tlearn: 0.0383019\ttotal: 16.3s\tremaining: 383ms\n",
      "977:\tlearn: 0.0382828\ttotal: 16.3s\tremaining: 367ms\n",
      "978:\tlearn: 0.0382557\ttotal: 16.3s\tremaining: 350ms\n",
      "979:\tlearn: 0.0382349\ttotal: 16.3s\tremaining: 333ms\n",
      "980:\tlearn: 0.0382187\ttotal: 16.4s\tremaining: 317ms\n",
      "981:\tlearn: 0.0381871\ttotal: 16.4s\tremaining: 300ms\n",
      "982:\tlearn: 0.0381854\ttotal: 16.4s\tremaining: 283ms\n",
      "983:\tlearn: 0.0381656\ttotal: 16.4s\tremaining: 267ms\n",
      "984:\tlearn: 0.0381462\ttotal: 16.4s\tremaining: 250ms\n",
      "985:\tlearn: 0.0381139\ttotal: 16.4s\tremaining: 233ms\n",
      "986:\tlearn: 0.0380990\ttotal: 16.4s\tremaining: 217ms\n",
      "987:\tlearn: 0.0380859\ttotal: 16.5s\tremaining: 200ms\n",
      "988:\tlearn: 0.0380584\ttotal: 16.5s\tremaining: 183ms\n",
      "989:\tlearn: 0.0379840\ttotal: 16.5s\tremaining: 167ms\n",
      "990:\tlearn: 0.0379590\ttotal: 16.5s\tremaining: 150ms\n",
      "991:\tlearn: 0.0379503\ttotal: 16.5s\tremaining: 133ms\n",
      "992:\tlearn: 0.0379164\ttotal: 16.5s\tremaining: 117ms\n",
      "993:\tlearn: 0.0378831\ttotal: 16.6s\tremaining: 100ms\n",
      "994:\tlearn: 0.0378643\ttotal: 16.6s\tremaining: 83.3ms\n",
      "995:\tlearn: 0.0378291\ttotal: 16.6s\tremaining: 66.7ms\n",
      "996:\tlearn: 0.0378056\ttotal: 16.6s\tremaining: 50ms\n",
      "997:\tlearn: 0.0377902\ttotal: 16.6s\tremaining: 33.3ms\n",
      "998:\tlearn: 0.0377779\ttotal: 16.7s\tremaining: 16.7ms\n",
      "999:\tlearn: 0.0377681\ttotal: 16.7s\tremaining: 0us\n",
      "Accuracy : 0.984825567211515\n",
      "\n",
      "\n",
      "              precision    recall  f1-score   support\n",
      "\n",
      "         0.0       0.98      1.00      0.99     15339\n",
      "         1.0       0.99      0.95      0.97      5156\n",
      "\n",
      "    accuracy                           0.98     20495\n",
      "   macro avg       0.99      0.97      0.98     20495\n",
      "weighted avg       0.98      0.98      0.98     20495\n",
      "\n"
     ]
    }
   ],
   "source": [
    "catb.fit(X_train, y_train)\n",
    "y_pred_catb = catb.predict(X_test)\n",
    "print('Accuracy :',accuracy_score(y_test, y_pred_catb))\n",
    "print(\"\\n\")\n",
    "print(classification_report(y_test, y_pred_catb))"
   ]
  },
  {
   "cell_type": "markdown",
   "id": "5b562dcd",
   "metadata": {
    "papermill": {
     "duration": 0.032136,
     "end_time": "2024-05-21T12:30:11.068063",
     "exception": false,
     "start_time": "2024-05-21T12:30:11.035927",
     "status": "completed"
    },
    "tags": []
   },
   "source": [
    "# AdaBoost:"
   ]
  },
  {
   "cell_type": "code",
   "execution_count": 29,
   "id": "3cc66ba9",
   "metadata": {
    "execution": {
     "iopub.execute_input": "2024-05-21T12:30:11.135660Z",
     "iopub.status.busy": "2024-05-21T12:30:11.134789Z",
     "iopub.status.idle": "2024-05-21T12:30:17.259688Z",
     "shell.execute_reply": "2024-05-21T12:30:17.258605Z"
    },
    "papermill": {
     "duration": 6.161771,
     "end_time": "2024-05-21T12:30:17.262098",
     "exception": false,
     "start_time": "2024-05-21T12:30:11.100327",
     "status": "completed"
    },
    "tags": []
   },
   "outputs": [
    {
     "name": "stdout",
     "output_type": "stream",
     "text": [
      "Accuracy : 0.9050500121980971\n",
      "\n",
      "\n",
      "              precision    recall  f1-score   support\n",
      "\n",
      "         0.0       0.91      0.97      0.94     15339\n",
      "         1.0       0.90      0.70      0.79      5156\n",
      "\n",
      "    accuracy                           0.91     20495\n",
      "   macro avg       0.90      0.84      0.86     20495\n",
      "weighted avg       0.90      0.91      0.90     20495\n",
      "\n"
     ]
    }
   ],
   "source": [
    "from sklearn.tree import DecisionTreeClassifier\n",
    "base_classifier = DecisionTreeClassifier(max_depth=1)\n",
    "adab = AdaBoostClassifier(base_estimator=base_classifier, random_state=42)\n",
    "adab.fit(X_train, y_train)\n",
    "y_pred_adab = adab.predict(X_test)\n",
    "print('Accuracy :',accuracy_score(y_test, y_pred_adab))\n",
    "print(\"\\n\")\n",
    "print(classification_report(y_test, y_pred_adab))"
   ]
  },
  {
   "cell_type": "markdown",
   "id": "6d475443",
   "metadata": {
    "papermill": {
     "duration": 0.030209,
     "end_time": "2024-05-21T12:30:17.322855",
     "exception": false,
     "start_time": "2024-05-21T12:30:17.292646",
     "status": "completed"
    },
    "tags": []
   },
   "source": [
    "# Scores Compilation:"
   ]
  },
  {
   "cell_type": "code",
   "execution_count": 30,
   "id": "4ca492b7",
   "metadata": {
    "execution": {
     "iopub.execute_input": "2024-05-21T12:30:17.387720Z",
     "iopub.status.busy": "2024-05-21T12:30:17.387040Z",
     "iopub.status.idle": "2024-05-21T12:30:18.080729Z",
     "shell.execute_reply": "2024-05-21T12:30:18.079600Z"
    },
    "papermill": {
     "duration": 0.728739,
     "end_time": "2024-05-21T12:30:18.083213",
     "exception": false,
     "start_time": "2024-05-21T12:30:17.354474",
     "status": "completed"
    },
    "tags": []
   },
   "outputs": [
    {
     "data": {
      "text/html": [
       "<div>\n",
       "<style scoped>\n",
       "    .dataframe tbody tr th:only-of-type {\n",
       "        vertical-align: middle;\n",
       "    }\n",
       "\n",
       "    .dataframe tbody tr th {\n",
       "        vertical-align: top;\n",
       "    }\n",
       "\n",
       "    .dataframe thead th {\n",
       "        text-align: right;\n",
       "    }\n",
       "</style>\n",
       "<table border=\"1\" class=\"dataframe\">\n",
       "  <thead>\n",
       "    <tr style=\"text-align: right;\">\n",
       "      <th></th>\n",
       "      <th>Model</th>\n",
       "      <th>Accuracy</th>\n",
       "      <th>Precision</th>\n",
       "      <th>Recall</th>\n",
       "      <th>F1-Score</th>\n",
       "    </tr>\n",
       "  </thead>\n",
       "  <tbody>\n",
       "    <tr>\n",
       "      <th>0</th>\n",
       "      <td>AdaBoost</td>\n",
       "      <td>0.905050</td>\n",
       "      <td>0.902659</td>\n",
       "      <td>0.697828</td>\n",
       "      <td>0.787136</td>\n",
       "    </tr>\n",
       "    <tr>\n",
       "      <th>1</th>\n",
       "      <td>GradientBoost</td>\n",
       "      <td>0.936911</td>\n",
       "      <td>0.973988</td>\n",
       "      <td>0.769783</td>\n",
       "      <td>0.859929</td>\n",
       "    </tr>\n",
       "    <tr>\n",
       "      <th>2</th>\n",
       "      <td>XGBoost</td>\n",
       "      <td>0.974774</td>\n",
       "      <td>0.977952</td>\n",
       "      <td>0.920481</td>\n",
       "      <td>0.948346</td>\n",
       "    </tr>\n",
       "    <tr>\n",
       "      <th>3</th>\n",
       "      <td>LGBoost</td>\n",
       "      <td>0.981313</td>\n",
       "      <td>0.988937</td>\n",
       "      <td>0.936191</td>\n",
       "      <td>0.961841</td>\n",
       "    </tr>\n",
       "    <tr>\n",
       "      <th>4</th>\n",
       "      <td>CatBoost</td>\n",
       "      <td>0.984826</td>\n",
       "      <td>0.990087</td>\n",
       "      <td>0.949185</td>\n",
       "      <td>0.969205</td>\n",
       "    </tr>\n",
       "  </tbody>\n",
       "</table>\n",
       "</div>"
      ],
      "text/plain": [
       "           Model  Accuracy  Precision    Recall  F1-Score\n",
       "0       AdaBoost  0.905050   0.902659  0.697828  0.787136\n",
       "1  GradientBoost  0.936911   0.973988  0.769783  0.859929\n",
       "2        XGBoost  0.974774   0.977952  0.920481  0.948346\n",
       "3        LGBoost  0.981313   0.988937  0.936191  0.961841\n",
       "4       CatBoost  0.984826   0.990087  0.949185  0.969205"
      ]
     },
     "execution_count": 30,
     "metadata": {},
     "output_type": "execute_result"
    }
   ],
   "source": [
    "from sklearn.metrics import accuracy_score, precision_score, recall_score, f1_score\n",
    "\n",
    "trained_models = [adab, gdb, xgb, lgb, catb]\n",
    "model_names = [\"AdaBoost\",\"GradientBoost\",\"XGBoost\",\"LGBoost\",\"CatBoost\"]\n",
    "model_list = list(zip(model_names, trained_models))\n",
    "accuracy_scores = []\n",
    "precision_scores = []\n",
    "recall_scores = []\n",
    "f1_scores = []\n",
    "\n",
    "for model_name, model in model_list:\n",
    "    y_pred = model.predict(X_test)\n",
    "    \n",
    "    accuracy_scores.append(accuracy_score(y_test, y_pred))\n",
    "    precision_scores.append(precision_score(y_test, y_pred))\n",
    "    recall_scores.append(recall_score(y_test, y_pred))\n",
    "    f1_scores.append(f1_score(y_test, y_pred))\n",
    "\n",
    "metrics_df = pd.DataFrame({\n",
    "    'Model': model_names,\n",
    "    'Accuracy': accuracy_scores,\n",
    "    'Precision': precision_scores,\n",
    "    'Recall': recall_scores,\n",
    "    'F1-Score': f1_scores\n",
    "})\n",
    "\n",
    "metrics_df\n"
   ]
  },
  {
   "cell_type": "markdown",
   "id": "3a8a0776",
   "metadata": {
    "papermill": {
     "duration": 0.03265,
     "end_time": "2024-05-21T12:30:18.148285",
     "exception": false,
     "start_time": "2024-05-21T12:30:18.115635",
     "status": "completed"
    },
    "tags": []
   },
   "source": [
    "**Inference:** All the evaluation metrics values are increasing with each successive boosting model with best results given by CatBoost. Catboost is already giving accuracy of 98% so there is no need for stacking or hyperparametertuning."
   ]
  }
 ],
 "metadata": {
  "kaggle": {
   "accelerator": "none",
   "dataSources": [
    {
     "datasetId": 1897041,
     "sourceId": 3106815,
     "sourceType": "datasetVersion"
    }
   ],
   "dockerImageVersionId": 30664,
   "isGpuEnabled": false,
   "isInternetEnabled": false,
   "language": "python",
   "sourceType": "notebook"
  },
  "kernelspec": {
   "display_name": "Python 3",
   "language": "python",
   "name": "python3"
  },
  "language_info": {
   "codemirror_mode": {
    "name": "ipython",
    "version": 3
   },
   "file_extension": ".py",
   "mimetype": "text/x-python",
   "name": "python",
   "nbconvert_exporter": "python",
   "pygments_lexer": "ipython3",
   "version": "3.10.13"
  },
  "papermill": {
   "default_parameters": {},
   "duration": 834.724318,
   "end_time": "2024-05-21T12:30:19.001998",
   "environment_variables": {},
   "exception": null,
   "input_path": "__notebook__.ipynb",
   "output_path": "__notebook__.ipynb",
   "parameters": {},
   "start_time": "2024-05-21T12:16:24.277680",
   "version": "2.5.0"
  }
 },
 "nbformat": 4,
 "nbformat_minor": 5
}
